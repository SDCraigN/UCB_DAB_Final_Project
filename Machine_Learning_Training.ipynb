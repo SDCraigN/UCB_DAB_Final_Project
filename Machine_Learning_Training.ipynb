{
  "nbformat": 4,
  "nbformat_minor": 0,
  "metadata": {
    "colab": {
      "name": "Machine Learning Training.ipynb",
      "provenance": [],
      "collapsed_sections": [],
      "include_colab_link": true
    },
    "kernelspec": {
      "name": "python3",
      "display_name": "Python 3"
    }
  },
  "cells": [
    {
      "cell_type": "markdown",
      "metadata": {
        "id": "view-in-github",
        "colab_type": "text"
      },
      "source": [
        "<a href=\"https://colab.research.google.com/github/SDCraigN/UCB_DAB_Final_Project/blob/main/Machine_Learning_Training.ipynb\" target=\"_parent\"><img src=\"https://colab.research.google.com/assets/colab-badge.svg\" alt=\"Open In Colab\"/></a>"
      ]
    },
    {
      "cell_type": "code",
      "metadata": {
        "id": "7wI3sQelkdD8"
      },
      "source": [
        "from google.colab import auth\n",
        "auth.authenticate_user()"
      ],
      "execution_count": null,
      "outputs": []
    },
    {
      "cell_type": "code",
      "metadata": {
        "id": "27GNl6g-kjLx"
      },
      "source": [
        "%load_ext google.colab.data_table"
      ],
      "execution_count": null,
      "outputs": []
    },
    {
      "cell_type": "code",
      "metadata": {
        "id": "AJSc6JD2k0UG"
      },
      "source": [
        "%%bigquery --project plucky-zodiac-283501 df\n",
        "SELECT *\n",
        "FROM cleandata.combineddata"
      ],
      "execution_count": null,
      "outputs": []
    },
    {
      "cell_type": "code",
      "metadata": {
        "colab": {
          "base_uri": "https://localhost:8080/"
        },
        "id": "H7tVECWmWcKB",
        "outputId": "ad435636-9f49-4eed-8c40-53f1f210c24f"
      },
      "source": [
        "import os\n",
        "# Find the latest version of spark 3.0  from http://www-us.apache.org/dist/spark/ and enter as the spark version\n",
        "# For example:\n",
        "# spark_version = 'spark-3.0.1'\n",
        "spark_version = 'spark-3.0.1'\n",
        "os.environ['SPARK_VERSION']=spark_version\n",
        "\n",
        "# Install Spark and Java\n",
        "!apt-get update\n",
        "!apt-get install openjdk-11-jdk-headless -qq > /dev/null\n",
        "!wget -q http://www-us.apache.org/dist/spark/$SPARK_VERSION/$SPARK_VERSION-bin-hadoop2.7.tgz\n",
        "!tar xf $SPARK_VERSION-bin-hadoop2.7.tgz\n",
        "!pip install -q findspark\n",
        "\n",
        "# Set Environment Variables\n",
        "os.environ[\"JAVA_HOME\"] = \"/usr/lib/jvm/java-11-openjdk-amd64\"\n",
        "os.environ[\"SPARK_HOME\"] = f\"/content/{spark_version}-bin-hadoop2.7\"\n",
        "\n",
        "# Start a SparkSession\n",
        "import findspark\n",
        "findspark.init()"
      ],
      "execution_count": null,
      "outputs": [
        {
          "output_type": "stream",
          "text": [
            "\r0% [Working]\r            \rGet:1 http://security.ubuntu.com/ubuntu bionic-security InRelease [88.7 kB]\n",
            "\r0% [Connecting to archive.ubuntu.com (91.189.88.152)] [1 InRelease 1,138 B/88.7\r0% [Connecting to archive.ubuntu.com (91.189.88.152)] [Connected to cloud.r-pro\r                                                                               \rIgn:2 https://developer.download.nvidia.com/compute/cuda/repos/ubuntu1804/x86_64  InRelease\n",
            "Hit:3 https://cloud.r-project.org/bin/linux/ubuntu bionic-cran40/ InRelease\n",
            "Ign:4 https://developer.download.nvidia.com/compute/machine-learning/repos/ubuntu1804/x86_64  InRelease\n",
            "Hit:5 http://ppa.launchpad.net/c2d4u.team/c2d4u4.0+/ubuntu bionic InRelease\n",
            "Hit:6 https://developer.download.nvidia.com/compute/cuda/repos/ubuntu1804/x86_64  Release\n",
            "Hit:7 https://developer.download.nvidia.com/compute/machine-learning/repos/ubuntu1804/x86_64  Release\n",
            "Hit:8 http://archive.ubuntu.com/ubuntu bionic InRelease\n",
            "Get:9 http://archive.ubuntu.com/ubuntu bionic-updates InRelease [88.7 kB]\n",
            "Hit:10 http://ppa.launchpad.net/graphics-drivers/ppa/ubuntu bionic InRelease\n",
            "Get:11 http://archive.ubuntu.com/ubuntu bionic-backports InRelease [74.6 kB]\n",
            "Fetched 252 kB in 2s (126 kB/s)\n",
            "Reading package lists... Done\n"
          ],
          "name": "stdout"
        }
      ]
    },
    {
      "cell_type": "code",
      "metadata": {
        "id": "rsHuY2AtWfN0"
      },
      "source": [
        "# Start Spark session\n",
        "from pyspark.sql import SparkSession\n",
        "spark = SparkSession.builder.appName(\"tokenizing\").getOrCreate()"
      ],
      "execution_count": null,
      "outputs": []
    },
    {
      "cell_type": "code",
      "metadata": {
        "id": "PdAvl0eNWfUD"
      },
      "source": [
        "from pyspark.ml.feature import RegexTokenizer, Tokenizer\n",
        "from pyspark.sql.functions import col, udf\n",
        "from pyspark.sql.types import IntegerType"
      ],
      "execution_count": null,
      "outputs": []
    },
    {
      "cell_type": "code",
      "metadata": {
        "id": "O8sUC3wVWfd-"
      },
      "source": [
        "# Read in data from storage\n",
        "from pyspark import SparkFiles\n",
        "\n",
        "url =\"https://storage.googleapis.com/ucb_finalproject_nn/yearly_data/1975-1979.csv\"\n",
        "url2 = \"https://storage.googleapis.com/ucb_finalproject_nn/yearly_data/1980-1989.csv\"\n",
        "url3 = \"https://storage.googleapis.com/ucb_finalproject_nn/yearly_data/1990-2001.csv\"\n",
        "url4 = \"https://storage.googleapis.com/ucb_finalproject_nn/yearly_data/2002-2009.csv\"\n",
        "url5 = \"https://storage.googleapis.com/ucb_finalproject_nn/yearly_data/2010-2015.csv\"\n",
        "url6 = \"https://storage.googleapis.com/ucb_finalproject_nn/yearly_data/2016_avg.csv\"\n"
      ],
      "execution_count": null,
      "outputs": []
    },
    {
      "cell_type": "code",
      "metadata": {
        "id": "8gB-2vuQSOf9"
      },
      "source": [
        "spark.sparkContext.addFile(url)\n",
        "df = spark.read.csv(SparkFiles.get(\"1975-1979.csv\"), sep=\",\", header=True)"
      ],
      "execution_count": null,
      "outputs": []
    },
    {
      "cell_type": "code",
      "metadata": {
        "id": "lSMyI5f2SUY9"
      },
      "source": [
        "spark.sparkContext.addFile(url2)\n",
        "df2 = spark.read.csv(SparkFiles.get(\"1980-1989.csv\"), sep=\",\", header=True)"
      ],
      "execution_count": null,
      "outputs": []
    },
    {
      "cell_type": "code",
      "metadata": {
        "id": "sOJgOee_SUi2"
      },
      "source": [
        "spark.sparkContext.addFile(url3)\n",
        "df3 = spark.read.csv(SparkFiles.get(\"1990-2001.csv\"), sep=\",\", header=True)"
      ],
      "execution_count": null,
      "outputs": []
    },
    {
      "cell_type": "code",
      "metadata": {
        "id": "k_H2KCwWSUrw"
      },
      "source": [
        "spark.sparkContext.addFile(url4)\n",
        "df4 = spark.read.csv(SparkFiles.get(\"2002-2009.csv\"), sep=\",\", header=True)"
      ],
      "execution_count": null,
      "outputs": []
    },
    {
      "cell_type": "code",
      "metadata": {
        "id": "lDNqYC1WSUze"
      },
      "source": [
        "spark.sparkContext.addFile(url5)\n",
        "df5 = spark.read.csv(SparkFiles.get(\"2010-2015.csv\"), sep=\",\", header=True)"
      ],
      "execution_count": null,
      "outputs": []
    },
    {
      "cell_type": "code",
      "metadata": {
        "id": "p3ccaVyfSU7N"
      },
      "source": [
        "spark.sparkContext.addFile(url6)\n",
        "df6 = spark.read.csv(SparkFiles.get(\"2016_avg.csv\"), sep=\",\", header=True)"
      ],
      "execution_count": null,
      "outputs": []
    },
    {
      "cell_type": "code",
      "metadata": {
        "id": "z7TRbKDW1Euo"
      },
      "source": [
        "dfUnion = df.union(df2)"
      ],
      "execution_count": null,
      "outputs": []
    },
    {
      "cell_type": "code",
      "metadata": {
        "id": "ma_MVR_V1xih"
      },
      "source": [
        "dfUnion2 = dfUnion.union(df3)"
      ],
      "execution_count": null,
      "outputs": []
    },
    {
      "cell_type": "code",
      "metadata": {
        "id": "mXOWwV631xro"
      },
      "source": [
        "dfUnion3 = dfUnion.union(df4)"
      ],
      "execution_count": null,
      "outputs": []
    },
    {
      "cell_type": "code",
      "metadata": {
        "id": "1vefM8P31xxm"
      },
      "source": [
        "dfUnion4 = dfUnion.union(df5)"
      ],
      "execution_count": null,
      "outputs": []
    },
    {
      "cell_type": "code",
      "metadata": {
        "id": "LT5t05VH1x4H"
      },
      "source": [
        "dfUnion5 = dfUnion.union(df6)"
      ],
      "execution_count": null,
      "outputs": []
    },
    {
      "cell_type": "code",
      "metadata": {
        "colab": {
          "base_uri": "https://localhost:8080/"
        },
        "id": "q5aR_UUD1Mbc",
        "outputId": "0da42d96-0da2-440e-d674-c10983ea1498"
      },
      "source": [
        "dfUnion5.show()"
      ],
      "execution_count": null,
      "outputs": [
        {
          "output_type": "stream",
          "text": [
            "+----+-----+-------+--------------------+------+--------+-------+-------------------+------------------+------------------+------------------+------------------+\n",
            "|year|state|station|                name|   lat|     lon|   elev|           avg_temp|           avg_dew|           avg_slp|           avg_stp|           avg_co2|\n",
            "+----+-----+-------+--------------------+------+--------+-------+-------------------+------------------+------------------+------------------+------------------+\n",
            "|1975|   NH| 726160|BERLIN MUNICIPAL ...|44.583| -71.179|+0353.0| 48.552121212121207|40.676515151515147|5781.6575757575747|2755.7356060606062|329.85166666666669|\n",
            "|1975|   NY| 725060|   OTIS ANGB AIRPORT| 41.65| -70.061|+0047.5| 54.339075268817204|45.689440860215058|            9999.9|1012.6343655913978|331.20300000000003|\n",
            "|1975|   OR| 726885|             MEACHAM|45.511|-118.425|+1134.8| 40.082917735608305|3928.3748064282372|9102.0103225806452|  9087.61322580645|           331.521|\n",
            "|1975|   AK| 700265|BARROW W POST-W R...|71.333|-156.633|+0004.0|               15.0|             12.25|            9999.9|            9999.9|            328.34|\n",
            "|1975|   AK| 700866|    CHALLENGE ISLAND|70.233|  -146.5|-0999.0| 4.5260755682066796|5488.1165309603257|9813.7558620689651|            9999.9|           332.224|\n",
            "|1975|   AK| 701160|               WALES|65.617| -168.05|+0005.0| 14.700000000000001|10.966666666666665|1002.0166666666667|            9999.9|            331.65|\n",
            "|1975|   AK| 701620|               UMIAT|69.367|-152.133|+0085.0|-12.867118298368297|286.80541958041943|            9999.9|            9999.9|            329.53|\n",
            "|1975|   AK| 701745|CHANDALAR LAKE AI...|67.511|-148.483|+0585.0|-10.939230769230772|748.59846153846138|            9999.9|            9999.9|           330.125|\n",
            "|1975|   AK| 702460|          MINCHUMINA|  63.9|-152.267|+0214.0|  28.33787867996201| 3323.198856328856|            9999.9|            9999.9|331.28999999999996|\n",
            "|1975|   AK| 702490|       PUNTILLA LAKE|  62.1|-152.735|+0566.3| 27.595451631701632| 167.8182977855478|            9999.9|            9999.9|           331.521|\n",
            "|1975|   AK| 702550|    SKWENTNA AIRPORT|61.977|-151.183|+0045.7| 33.186844007707975|  3233.64816689132|            9999.9|            9999.9|332.17249999999996|\n",
            "|1975|   AK| 702600|NENANA/MUN.      ...| 64.55|-149.072|+0110.0| 8.2347069597069584|2229.9064542124543|            9999.9|            9999.9|            329.51|\n",
            "|1975|   AK| 702675|      PAXSON AIRPORT|63.033|-145.498|+0823.0| 24.320588235294121| 151.5392959001783|            9999.9|            9999.9|331.40818181818184|\n",
            "|1975|   AK| 702680|      GLENNALLEN  AK|  62.1|-145.967|+0573.0| 41.549042658730158|27.282172619047625|            9999.9|            9999.9|         331.15375|\n",
            "|1975|   AK| 702719|       SNOWSHOE LAKE|62.033|-142.667|+0735.0|   25.9434350132626|136.83779840848808|            9999.9|            9999.9|328.79666666666668|\n",
            "|1975|   AK| 702735|         MERRILL FLD|61.217|-149.833|+0042.1| 36.535714285714285|5024.0499999999993|            9999.9|            9999.9|329.65999999999997|\n",
            "|1975|   AK| 702756|VALDEZ PIONEER FI...|61.133|-146.244|+0036.0|                5.2|               2.1|            9999.9|            9999.9|             333.6|\n",
            "|1975|   AK| 702757|    WHITTIER AIRPORT|60.783|-148.683|+0011.9| 34.678333333333335|28.328333333333333|            9999.9|            9999.9|           331.232|\n",
            "|1975|   AK| 703330| PORT HEIDEN AIRPORT|56.959|-158.617|+0029.0| 38.746683413834745|146.90557384898472|            9999.9|            9999.9|330.83500000000004|\n",
            "|1975|   AK| 703570|SITKINAK(USCG)   ...| 56.55|-154.133|+0017.0| 39.248593435075179|111.62679681681101|1237.7385746080042|            9999.9|331.20300000000003|\n",
            "+----+-----+-------+--------------------+------+--------+-------+-------------------+------------------+------------------+------------------+------------------+\n",
            "only showing top 20 rows\n",
            "\n"
          ],
          "name": "stdout"
        }
      ]
    },
    {
      "cell_type": "code",
      "metadata": {
        "id": "ZmbOphNolDgi"
      },
      "source": [
        "from pyspark.ml.feature import VectorAssembler"
      ],
      "execution_count": null,
      "outputs": []
    },
    {
      "cell_type": "code",
      "metadata": {
        "id": "YWHCL7w9dOVp",
        "colab": {
          "base_uri": "https://localhost:8080/"
        },
        "outputId": "3f822a92-3d0e-4253-d009-551e4f1d2ce9"
      },
      "source": [
        "df_modified = dfUnion5.drop('name', 'lon', 'avg_slp', 'avg_stp', 'state', 'station')\n",
        "\n",
        "df_modified.show()"
      ],
      "execution_count": null,
      "outputs": [
        {
          "output_type": "stream",
          "text": [
            "+----+------+-------+-------------------+------------------+------------------+\n",
            "|year|   lat|   elev|           avg_temp|           avg_dew|           avg_co2|\n",
            "+----+------+-------+-------------------+------------------+------------------+\n",
            "|1975|44.583|+0353.0| 48.552121212121207|40.676515151515147|329.85166666666669|\n",
            "|1975| 41.65|+0047.5| 54.339075268817204|45.689440860215058|331.20300000000003|\n",
            "|1975|45.511|+1134.8| 40.082917735608305|3928.3748064282372|           331.521|\n",
            "|1975|71.333|+0004.0|               15.0|             12.25|            328.34|\n",
            "|1975|70.233|-0999.0| 4.5260755682066796|5488.1165309603257|           332.224|\n",
            "|1975|65.617|+0005.0| 14.700000000000001|10.966666666666665|            331.65|\n",
            "|1975|69.367|+0085.0|-12.867118298368297|286.80541958041943|            329.53|\n",
            "|1975|67.511|+0585.0|-10.939230769230772|748.59846153846138|           330.125|\n",
            "|1975|  63.9|+0214.0|  28.33787867996201| 3323.198856328856|331.28999999999996|\n",
            "|1975|  62.1|+0566.3| 27.595451631701632| 167.8182977855478|           331.521|\n",
            "|1975|61.977|+0045.7| 33.186844007707975|  3233.64816689132|332.17249999999996|\n",
            "|1975| 64.55|+0110.0| 8.2347069597069584|2229.9064542124543|            329.51|\n",
            "|1975|63.033|+0823.0| 24.320588235294121| 151.5392959001783|331.40818181818184|\n",
            "|1975|  62.1|+0573.0| 41.549042658730158|27.282172619047625|         331.15375|\n",
            "|1975|62.033|+0735.0|   25.9434350132626|136.83779840848808|328.79666666666668|\n",
            "|1975|61.217|+0042.1| 36.535714285714285|5024.0499999999993|329.65999999999997|\n",
            "|1975|61.133|+0036.0|                5.2|               2.1|             333.6|\n",
            "|1975|60.783|+0011.9| 34.678333333333335|28.328333333333333|           331.232|\n",
            "|1975|56.959|+0029.0| 38.746683413834745|146.90557384898472|330.83500000000004|\n",
            "|1975| 56.55|+0017.0| 39.248593435075179|111.62679681681101|331.20300000000003|\n",
            "+----+------+-------+-------------------+------------------+------------------+\n",
            "only showing top 20 rows\n",
            "\n"
          ],
          "name": "stdout"
        }
      ]
    },
    {
      "cell_type": "code",
      "metadata": {
        "colab": {
          "base_uri": "https://localhost:8080/"
        },
        "id": "EqMkVVcYiheP",
        "outputId": "842202dd-fcd3-4002-90b6-a9bbb3f5d73a"
      },
      "source": [
        "df_modified = df_modified.selectExpr(\"cast(year as int) year\",\n",
        "    \"cast(lat as double) lat\",\n",
        "    \"cast(elev as double) elev\", \n",
        "    \"cast(avg_temp as double) avg_temp\",\n",
        "    \"cast(avg_dew as double) avg_dew\", \n",
        "    \"cast(avg_co2 as double) avg_co2\")\n",
        "\n",
        "df_modified.printSchema()"
      ],
      "execution_count": null,
      "outputs": [
        {
          "output_type": "stream",
          "text": [
            "root\n",
            " |-- year: integer (nullable = true)\n",
            " |-- lat: double (nullable = true)\n",
            " |-- elev: double (nullable = true)\n",
            " |-- avg_temp: double (nullable = true)\n",
            " |-- avg_dew: double (nullable = true)\n",
            " |-- avg_co2: double (nullable = true)\n",
            "\n"
          ],
          "name": "stdout"
        }
      ]
    },
    {
      "cell_type": "code",
      "metadata": {
        "id": "oa_6nKRGzgTn"
      },
      "source": [
        "features = df_modified.drop(\"avg_temp\")"
      ],
      "execution_count": null,
      "outputs": []
    },
    {
      "cell_type": "code",
      "metadata": {
        "id": "s6YFtbiZbLX9"
      },
      "source": [
        "assembler = VectorAssembler(inputCols=features.columns, outputCol=\"features\", handleInvalid=\"skip\")"
      ],
      "execution_count": null,
      "outputs": []
    },
    {
      "cell_type": "code",
      "metadata": {
        "id": "0P1nbYDWdG7G"
      },
      "source": [
        "output = assembler.transform(df_modified).select('features','avg_temp')"
      ],
      "execution_count": null,
      "outputs": []
    },
    {
      "cell_type": "code",
      "metadata": {
        "id": "AK54e4QukAM1"
      },
      "source": [
        "train,test = output.randomSplit([0.75, 0.25]) "
      ],
      "execution_count": null,
      "outputs": []
    },
    {
      "cell_type": "code",
      "metadata": {
        "colab": {
          "base_uri": "https://localhost:8080/"
        },
        "id": "Q5mV8OrRkD3C",
        "outputId": "b4dfc37a-61da-41d9-9f25-7430629f6064"
      },
      "source": [
        "train.show()"
      ],
      "execution_count": null,
      "outputs": [
        {
          "output_type": "stream",
          "text": [
            "+--------------------+------------------+\n",
            "|            features|          avg_temp|\n",
            "+--------------------+------------------+\n",
            "|[1975.0,18.255,10...| 79.11708141321044|\n",
            "|[1975.0,18.336,6....| 81.09575010118418|\n",
            "|[1975.0,18.498,66...| 79.40661411822988|\n",
            "|[1975.0,19.76,188...|58.107898479152425|\n",
            "|[1975.0,20.001,81...|        66.9203125|\n",
            "|[1975.0,20.79,399...| 71.07767868014932|\n",
            "|[1975.0,21.155,13...| 76.06389411853509|\n",
            "|[1975.0,21.324,2....| 75.23113799283155|\n",
            "|[1975.0,21.45,7.3...| 75.23592165898617|\n",
            "|[1975.0,21.487,25...| 72.82809042675284|\n",
            "|[1975.0,21.984,30...| 75.04279185867894|\n",
            "|[1975.0,22.033,7....| 75.93634641896564|\n",
            "|[1975.0,24.583,1....| 78.99674859190989|\n",
            "|[1975.0,24.633,1....| 77.21010822510823|\n",
            "|[1975.0,24.72,1.0...| 77.56029761904762|\n",
            "|[1975.0,25.483,2....| 75.74278673835124|\n",
            "|[1975.0,25.914,7....| 73.02472862263184|\n",
            "|[1975.0,26.072,3....| 78.24742962286138|\n",
            "|[1975.0,26.184,30...| 73.21689132104456|\n",
            "|[1975.0,26.228,11...| 77.92969779314889|\n",
            "+--------------------+------------------+\n",
            "only showing top 20 rows\n",
            "\n"
          ],
          "name": "stdout"
        }
      ]
    },
    {
      "cell_type": "code",
      "metadata": {
        "colab": {
          "base_uri": "https://localhost:8080/"
        },
        "id": "IImB6WzqkECd",
        "outputId": "0e039f81-e965-4f88-b01e-bc24871b7bc2"
      },
      "source": [
        "test.show()"
      ],
      "execution_count": null,
      "outputs": [
        {
          "output_type": "stream",
          "text": [
            "+--------------------+-----------------+\n",
            "|            features|         avg_temp|\n",
            "+--------------------+-----------------+\n",
            "|[1975.0,18.433,2....|79.68193484383002|\n",
            "|[1975.0,19.719,11...|72.35902585765488|\n",
            "|[1975.0,20.9,15.5...|74.15759408602152|\n",
            "|[1975.0,21.317,15...|75.18506464413724|\n",
            "|[1975.0,24.557,0....|79.18689260112649|\n",
            "|[1975.0,24.95,1.0...|79.06531364468864|\n",
            "|[1975.0,25.788,8....|76.77397593445983|\n",
            "|[1975.0,26.77,1.0...|72.56022727272727|\n",
            "|[1975.0,27.072,5....|             68.9|\n",
            "|[1975.0,27.401,9....|74.34494815668202|\n",
            "|[1975.0,27.6,1.0,...|            73.15|\n",
            "|[1975.0,27.83,1.0...|68.96272104332449|\n",
            "|[1975.0,27.911,3....| 75.3717601126472|\n",
            "|[1975.0,27.962,5....|73.57108358934971|\n",
            "|[1975.0,28.434,27...|71.91521761392728|\n",
            "|[1975.0,29.692,50...|69.67728814644138|\n",
            "|[1975.0,29.73,1.0...|64.38115100250626|\n",
            "|[1975.0,30.067,5....| 68.5497977470558|\n",
            "|[1975.0,30.321,20...|66.64256656426012|\n",
            "|[1975.0,30.4,4.9,...|71.40381995540692|\n",
            "+--------------------+-----------------+\n",
            "only showing top 20 rows\n",
            "\n"
          ],
          "name": "stdout"
        }
      ]
    },
    {
      "cell_type": "code",
      "metadata": {
        "id": "MXnzTZSapkbj"
      },
      "source": [
        "from pyspark.ml.regression import LinearRegression\n",
        "lin_reg = LinearRegression(featuresCol = 'features', labelCol='avg_temp')\n",
        "linear_model = lin_reg.fit(train)\n",
        "linear_model2 = lin_reg.fit(test)"
      ],
      "execution_count": null,
      "outputs": []
    },
    {
      "cell_type": "code",
      "metadata": {
        "colab": {
          "base_uri": "https://localhost:8080/"
        },
        "id": "HwOwFjRlpko-",
        "outputId": "c45d52ee-4073-4bad-8a55-1c7345201c9c"
      },
      "source": [
        "trainSummary = linear_model.summary\n",
        "print(\"RMSE: %f\" % trainSummary.rootMeanSquaredError)\n",
        "print(\"\\nr2: %f\" % trainSummary.r2)"
      ],
      "execution_count": null,
      "outputs": [
        {
          "output_type": "stream",
          "text": [
            "RMSE: 6.073987\n",
            "\n",
            "r2: 0.763184\n"
          ],
          "name": "stdout"
        }
      ]
    },
    {
      "cell_type": "markdown",
      "metadata": {
        "id": "ThE40Ixp3nQP"
      },
      "source": [
        "Root MSE: absolute measure of fit. Standard deviation of unexplained variance / square root of the variance of the residuals. \n",
        "\n",
        "R-squared: Relative measure of fit. Approximately three-quarters of the observed variation can be explained by the model's inputs. "
      ]
    },
    {
      "cell_type": "code",
      "metadata": {
        "colab": {
          "base_uri": "https://localhost:8080/"
        },
        "id": "hHpbGMmIrt4u",
        "outputId": "a01aa35a-8562-4da5-acdd-38f327b01a90"
      },
      "source": [
        "testSummary = linear_model2.summary\n",
        "print(\"RMSE: %f\" % testSummary.rootMeanSquaredError)\n",
        "print(\"\\nr2: %f\" % testSummary.r2) # 74.5202% "
      ],
      "execution_count": null,
      "outputs": [
        {
          "output_type": "stream",
          "text": [
            "RMSE: 6.267120\n",
            "\n",
            "r2: 0.745202\n"
          ],
          "name": "stdout"
        }
      ]
    },
    {
      "cell_type": "markdown",
      "metadata": {
        "id": "G7B4QWFP3odV"
      },
      "source": [
        "Root MSE: absolute measure of fit. standard deviation of unexplained variance / square root of the variance of the residuals. \n",
        "\n",
        "R-squared: relative measure of fit. approximately three-quarters of the observed variation can be explained by the model's inputs."
      ]
    },
    {
      "cell_type": "markdown",
      "metadata": {
        "id": "qhYnWaY63gWY"
      },
      "source": [
        "Validation: Want to understand how our model performs on new data:\n",
        "  You fit (train) the model using training data, and score and validate your model using the testing data.\n",
        "\n",
        "Residual plot: checks our predictions, want y-values to be close to 0, and want them to be random -- no pattern!\n"
      ]
    }
  ]
}
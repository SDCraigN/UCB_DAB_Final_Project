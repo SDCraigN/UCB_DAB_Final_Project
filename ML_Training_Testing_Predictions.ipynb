{
  "nbformat": 4,
  "nbformat_minor": 0,
  "metadata": {
    "colab": {
      "name": "ML_Training_Testing_Predictions.ipynb",
      "provenance": [],
      "collapsed_sections": []
    },
    "kernelspec": {
      "name": "python3",
      "display_name": "Python 3"
    }
  },
  "cells": [
    {
      "cell_type": "markdown",
      "metadata": {
        "id": "GYrVSkrF8sw4"
      },
      "source": [
        "# Authorization and Imports\n"
      ]
    },
    {
      "cell_type": "code",
      "metadata": {
        "id": "7wI3sQelkdD8"
      },
      "source": [
        "from google.colab import auth\n",
        "auth.authenticate_user()"
      ],
      "execution_count": 1,
      "outputs": []
    },
    {
      "cell_type": "code",
      "metadata": {
        "id": "27GNl6g-kjLx"
      },
      "source": [
        "%load_ext google.colab.data_table"
      ],
      "execution_count": 2,
      "outputs": []
    },
    {
      "cell_type": "code",
      "metadata": {
        "id": "AJSc6JD2k0UG"
      },
      "source": [
        "%%bigquery --project plucky-zodiac-283501 df\n",
        "SELECT *\n",
        "FROM cleandata.combineddata"
      ],
      "execution_count": 3,
      "outputs": []
    },
    {
      "cell_type": "code",
      "metadata": {
        "colab": {
          "base_uri": "https://localhost:8080/"
        },
        "id": "H7tVECWmWcKB",
        "outputId": "b8a77483-8d20-4c5d-abbc-673f6137814a"
      },
      "source": [
        "import os\n",
        "# Find the latest version of spark 3.0  from http://www-us.apache.org/dist/spark/ and enter as the spark version\n",
        "# For example:\n",
        "# spark_version = 'spark-3.0.1'\n",
        "spark_version = 'spark-3.0.1'\n",
        "os.environ['SPARK_VERSION']=spark_version\n",
        "\n",
        "# Install Spark and Java\n",
        "!apt-get update\n",
        "!apt-get install openjdk-11-jdk-headless -qq > /dev/null\n",
        "!wget -q http://www-us.apache.org/dist/spark/$SPARK_VERSION/$SPARK_VERSION-bin-hadoop2.7.tgz\n",
        "!tar xf $SPARK_VERSION-bin-hadoop2.7.tgz\n",
        "!pip install -q findspark\n",
        "\n",
        "# Set Environment Variables\n",
        "os.environ[\"JAVA_HOME\"] = \"/usr/lib/jvm/java-11-openjdk-amd64\"\n",
        "os.environ[\"SPARK_HOME\"] = f\"/content/{spark_version}-bin-hadoop2.7\"\n",
        "\n",
        "# Start a SparkSession\n",
        "import findspark\n",
        "findspark.init()"
      ],
      "execution_count": 4,
      "outputs": [
        {
          "output_type": "stream",
          "text": [
            "Get:1 https://cloud.r-project.org/bin/linux/ubuntu bionic-cran40/ InRelease [3,626 B]\n",
            "Ign:2 https://developer.download.nvidia.com/compute/cuda/repos/ubuntu1804/x86_64  InRelease\n",
            "Ign:3 https://developer.download.nvidia.com/compute/machine-learning/repos/ubuntu1804/x86_64  InRelease\n",
            "Get:4 https://developer.download.nvidia.com/compute/cuda/repos/ubuntu1804/x86_64  Release [697 B]\n",
            "Hit:5 https://developer.download.nvidia.com/compute/machine-learning/repos/ubuntu1804/x86_64  Release\n",
            "Get:6 https://developer.download.nvidia.com/compute/cuda/repos/ubuntu1804/x86_64  Release.gpg [836 B]\n",
            "Get:7 http://ppa.launchpad.net/c2d4u.team/c2d4u4.0+/ubuntu bionic InRelease [15.9 kB]\n",
            "Get:9 http://security.ubuntu.com/ubuntu bionic-security InRelease [88.7 kB]\n",
            "Hit:10 http://archive.ubuntu.com/ubuntu bionic InRelease\n",
            "Get:11 http://archive.ubuntu.com/ubuntu bionic-updates InRelease [88.7 kB]\n",
            "Ign:12 https://developer.download.nvidia.com/compute/cuda/repos/ubuntu1804/x86_64  Packages\n",
            "Get:12 https://developer.download.nvidia.com/compute/cuda/repos/ubuntu1804/x86_64  Packages [442 kB]\n",
            "Hit:13 http://ppa.launchpad.net/graphics-drivers/ppa/ubuntu bionic InRelease\n",
            "Get:14 http://ppa.launchpad.net/c2d4u.team/c2d4u4.0+/ubuntu bionic/main Sources [1,690 kB]\n",
            "Get:15 http://archive.ubuntu.com/ubuntu bionic-backports InRelease [74.6 kB]\n",
            "Get:16 http://security.ubuntu.com/ubuntu bionic-security/main amd64 Packages [1,781 kB]\n",
            "Get:17 http://archive.ubuntu.com/ubuntu bionic-updates/multiverse amd64 Packages [54.3 kB]\n",
            "Get:18 http://archive.ubuntu.com/ubuntu bionic-updates/main amd64 Packages [2,208 kB]\n",
            "Get:19 http://archive.ubuntu.com/ubuntu bionic-updates/universe amd64 Packages [2,130 kB]\n",
            "Get:20 http://security.ubuntu.com/ubuntu bionic-security/universe amd64 Packages [1,365 kB]\n",
            "Get:21 http://archive.ubuntu.com/ubuntu bionic-updates/restricted amd64 Packages [252 kB]\n",
            "Get:22 http://ppa.launchpad.net/c2d4u.team/c2d4u4.0+/ubuntu bionic/main amd64 Packages [865 kB]\n",
            "Fetched 11.1 MB in 5s (2,086 kB/s)\n",
            "Reading package lists... Done\n"
          ],
          "name": "stdout"
        }
      ]
    },
    {
      "cell_type": "code",
      "metadata": {
        "id": "uhXx_2r7_z_O"
      },
      "source": [
        "import pandas as pd"
      ],
      "execution_count": 5,
      "outputs": []
    },
    {
      "cell_type": "code",
      "metadata": {
        "id": "rsHuY2AtWfN0"
      },
      "source": [
        "# Start Spark session\n",
        "from pyspark.sql import SparkSession\n",
        "spark = SparkSession.builder.appName(\"tokenizing\").getOrCreate()"
      ],
      "execution_count": 7,
      "outputs": []
    },
    {
      "cell_type": "markdown",
      "metadata": {
        "id": "jyf6qklO9LEw"
      },
      "source": [
        "# Read in Data and Place in Dataframe"
      ]
    },
    {
      "cell_type": "code",
      "metadata": {
        "id": "O8sUC3wVWfd-"
      },
      "source": [
        "# Read in data from storage\n",
        "from pyspark import SparkFiles\n",
        "\n",
        "url =\"https://storage.googleapis.com/ucb_finalproject_nn/final/1975_1989.csv\"\n",
        "url2 = \"https://storage.googleapis.com/ucb_finalproject_nn/final/1990_2002.csv\"\n",
        "url3 = \"https://storage.googleapis.com/ucb_finalproject_nn/final/2003_2010.csv\"\n",
        "url4 = \"https://storage.googleapis.com/ucb_finalproject_nn/final/2011_2016.csv\"\n"
      ],
      "execution_count": 8,
      "outputs": []
    },
    {
      "cell_type": "code",
      "metadata": {
        "id": "8gB-2vuQSOf9"
      },
      "source": [
        "spark.sparkContext.addFile(url)\n",
        "df = spark.read.csv(SparkFiles.get(\"1975_1989.csv\"), sep=\",\", header=True)"
      ],
      "execution_count": 9,
      "outputs": []
    },
    {
      "cell_type": "code",
      "metadata": {
        "id": "lSMyI5f2SUY9"
      },
      "source": [
        "spark.sparkContext.addFile(url2)\n",
        "df2 = spark.read.csv(SparkFiles.get(\"1990_2002.csv\"), sep=\",\", header=True)"
      ],
      "execution_count": 10,
      "outputs": []
    },
    {
      "cell_type": "code",
      "metadata": {
        "id": "sOJgOee_SUi2"
      },
      "source": [
        "spark.sparkContext.addFile(url3)\n",
        "df3 = spark.read.csv(SparkFiles.get(\"2003_2010.csv\"), sep=\",\", header=True)"
      ],
      "execution_count": 11,
      "outputs": []
    },
    {
      "cell_type": "code",
      "metadata": {
        "id": "k_H2KCwWSUrw"
      },
      "source": [
        "spark.sparkContext.addFile(url4)\n",
        "df4 = spark.read.csv(SparkFiles.get(\"2011_2016.csv\"), sep=\",\", header=True)"
      ],
      "execution_count": 12,
      "outputs": []
    },
    {
      "cell_type": "code",
      "metadata": {
        "id": "z7TRbKDW1Euo"
      },
      "source": [
        "dfUnion = df.union(df2)"
      ],
      "execution_count": 13,
      "outputs": []
    },
    {
      "cell_type": "code",
      "metadata": {
        "id": "ma_MVR_V1xih"
      },
      "source": [
        "dfUnion2 = dfUnion.union(df3)"
      ],
      "execution_count": 14,
      "outputs": []
    },
    {
      "cell_type": "code",
      "metadata": {
        "id": "mXOWwV631xro"
      },
      "source": [
        "dfUnion3 = dfUnion.union(df4)"
      ],
      "execution_count": 15,
      "outputs": []
    },
    {
      "cell_type": "code",
      "metadata": {
        "colab": {
          "base_uri": "https://localhost:8080/"
        },
        "id": "q5aR_UUD1Mbc",
        "outputId": "5eb8909e-08af-4c93-bcbb-92398a0e4698"
      },
      "source": [
        "dfUnion3.show()"
      ],
      "execution_count": 16,
      "outputs": [
        {
          "output_type": "stream",
          "text": [
            "+----+-----+-------+--------------------+------+-------+------------------+-------+\n",
            "|year|state|station|                name|   lat|   elev|          avg_temp|avg_co2|\n",
            "+----+-----+-------+--------------------+------+-------+------------------+-------+\n",
            "|1989|   AK| 700260|W POST-WILL ROGER...|71.283|+0009.5|13.548002432155659| 352.91|\n",
            "|1989|   AK| 700635|GALBRAITH LAKE AI...|68.483|+0814.0|14.455962301587302| 352.91|\n",
            "|1989|   AK| 700636|         PRUDHOE BAY| 70.25|+0014.0|14.731031746031746| 352.91|\n",
            "|1989|   AK| 700637|   DEADHORSE AIRPORT|70.192|+0018.6|14.480375704045056| 352.91|\n",
            "|1989|   AK| 701040|CAPE LISBURNE LRR...|68.883|+0004.9|21.721833814333813| 352.91|\n",
            "|1989|   AK| 701170|TIN CITY LRRS AIR...|65.567|+0083.0|23.785535714285714| 352.91|\n",
            "|1989|   AK| 701190|   PORT CLARENCE CGS|65.254|+0003.0|26.277756285875974| 352.91|\n",
            "|1989|   AK| 701195|SHISHMAREF/NEW AI...| 66.25|+0004.0|24.586995890495611| 352.91|\n",
            "|1989|   AK| 701330|RALPH WIEN MEMORI...|66.867|+0009.1|23.547707373271887| 352.91|\n",
            "|1989|   AK| 701620|               UMIAT|69.367|+0085.0|15.843559552255787| 352.91|\n",
            "|1989|   AK| 701718|      AMBLER AIRPORT|  67.1|+0102.0|22.108897978763569| 352.91|\n",
            "|1989|   AK| 701730|INDIAN MOUNTAIN L...|  66.0|+0389.0|   25.264856000481| 352.91|\n",
            "|1989|   AK| 701740|     BETTLES AIRPORT|66.918|+0193.2|  22.7935291858679| 352.91|\n",
            "|1989|   AK| 701748|PROSPECT CREEK AI...|66.817|+0335.0|18.404166666666669| 352.91|\n",
            "|1989|   AK| 701780|RALPH M CALHOUN M...|65.175|+0067.7|25.802313748079875| 352.91|\n",
            "|1989|   AK| 701795|      FIVE MILE CAMP|65.933|+0155.0| 13.62361111111111| 352.91|\n",
            "|1989|   AK| 701940|  FORT YUKON AIRPORT|66.567|+0135.6|22.343321812596002| 352.91|\n",
            "|1989|   AK| 702000|        NOME AIRPORT|64.511|+0004.0|27.364573092677929| 352.91|\n",
            "|1989|   AK| 702005|            ST MARYS|62.062|+0095.1|29.545208496408904| 352.91|\n",
            "|1989|   AK| 702035|    SAVOONGA AIRPORT|63.687|+0016.8|27.639361052747223| 352.91|\n",
            "+----+-----+-------+--------------------+------+-------+------------------+-------+\n",
            "only showing top 20 rows\n",
            "\n"
          ],
          "name": "stdout"
        }
      ]
    },
    {
      "cell_type": "markdown",
      "metadata": {
        "id": "YMzuxbIF9Zk7"
      },
      "source": [
        "# Machine Learning: Train, Test, Fit and Summarize"
      ]
    },
    {
      "cell_type": "code",
      "metadata": {
        "id": "ZmbOphNolDgi"
      },
      "source": [
        "from pyspark.ml.feature import VectorAssembler"
      ],
      "execution_count": 17,
      "outputs": []
    },
    {
      "cell_type": "code",
      "metadata": {
        "id": "YWHCL7w9dOVp",
        "colab": {
          "base_uri": "https://localhost:8080/"
        },
        "outputId": "6212807e-03a3-4a46-b378-06463fe687a6"
      },
      "source": [
        "df_modified = dfUnion3.drop('name', 'state', 'station',)\n",
        "\n",
        "# station = six-digit number that is a string, no decimals. \n",
        "\n",
        "df_modified.show()"
      ],
      "execution_count": 21,
      "outputs": [
        {
          "output_type": "stream",
          "text": [
            "+----+------+-------+------------------+-------+\n",
            "|year|   lat|   elev|          avg_temp|avg_co2|\n",
            "+----+------+-------+------------------+-------+\n",
            "|1989|71.283|+0009.5|13.548002432155659| 352.91|\n",
            "|1989|68.483|+0814.0|14.455962301587302| 352.91|\n",
            "|1989| 70.25|+0014.0|14.731031746031746| 352.91|\n",
            "|1989|70.192|+0018.6|14.480375704045056| 352.91|\n",
            "|1989|68.883|+0004.9|21.721833814333813| 352.91|\n",
            "|1989|65.567|+0083.0|23.785535714285714| 352.91|\n",
            "|1989|65.254|+0003.0|26.277756285875974| 352.91|\n",
            "|1989| 66.25|+0004.0|24.586995890495611| 352.91|\n",
            "|1989|66.867|+0009.1|23.547707373271887| 352.91|\n",
            "|1989|69.367|+0085.0|15.843559552255787| 352.91|\n",
            "|1989|  67.1|+0102.0|22.108897978763569| 352.91|\n",
            "|1989|  66.0|+0389.0|   25.264856000481| 352.91|\n",
            "|1989|66.918|+0193.2|  22.7935291858679| 352.91|\n",
            "|1989|66.817|+0335.0|18.404166666666669| 352.91|\n",
            "|1989|65.175|+0067.7|25.802313748079875| 352.91|\n",
            "|1989|65.933|+0155.0| 13.62361111111111| 352.91|\n",
            "|1989|66.567|+0135.6|22.343321812596002| 352.91|\n",
            "|1989|64.511|+0004.0|27.364573092677929| 352.91|\n",
            "|1989|62.062|+0095.1|29.545208496408904| 352.91|\n",
            "|1989|63.687|+0016.8|27.639361052747223| 352.91|\n",
            "+----+------+-------+------------------+-------+\n",
            "only showing top 20 rows\n",
            "\n"
          ],
          "name": "stdout"
        }
      ]
    },
    {
      "cell_type": "code",
      "metadata": {
        "colab": {
          "base_uri": "https://localhost:8080/"
        },
        "id": "EqMkVVcYiheP",
        "outputId": "078ef5fa-3057-41d1-86a7-dd7c06963686"
      },
      "source": [
        "df_modified = df_modified.selectExpr(\"cast(year as int) year\",\n",
        "    \"cast(lat as double) lat\",\n",
        "    \"cast(elev as double) elev\", \n",
        "    \"cast(avg_temp as double) avg_temp\", \n",
        "    \"cast(avg_co2 as double) avg_co2\")\n",
        "\n",
        "df_modified.printSchema()"
      ],
      "execution_count": 22,
      "outputs": [
        {
          "output_type": "stream",
          "text": [
            "root\n",
            " |-- year: integer (nullable = true)\n",
            " |-- lat: double (nullable = true)\n",
            " |-- elev: double (nullable = true)\n",
            " |-- avg_temp: double (nullable = true)\n",
            " |-- avg_co2: double (nullable = true)\n",
            "\n"
          ],
          "name": "stdout"
        }
      ]
    },
    {
      "cell_type": "code",
      "metadata": {
        "id": "oa_6nKRGzgTn"
      },
      "source": [
        "features = df_modified.drop(\"avg_temp\")"
      ],
      "execution_count": 23,
      "outputs": []
    },
    {
      "cell_type": "code",
      "metadata": {
        "id": "s6YFtbiZbLX9"
      },
      "source": [
        "assembler = VectorAssembler(inputCols=features.columns, outputCol=\"features\", handleInvalid=\"skip\")"
      ],
      "execution_count": 24,
      "outputs": []
    },
    {
      "cell_type": "code",
      "metadata": {
        "id": "0P1nbYDWdG7G"
      },
      "source": [
        "output = assembler.transform(df_modified).select('features','avg_temp')"
      ],
      "execution_count": 25,
      "outputs": []
    },
    {
      "cell_type": "code",
      "metadata": {
        "id": "AK54e4QukAM1"
      },
      "source": [
        "train,test = output.randomSplit([0.75, 0.25], seed=42) "
      ],
      "execution_count": 26,
      "outputs": []
    },
    {
      "cell_type": "code",
      "metadata": {
        "colab": {
          "base_uri": "https://localhost:8080/"
        },
        "id": "Q5mV8OrRkD3C",
        "outputId": "e45f0579-859c-4c15-e4aa-94f6252cb193"
      },
      "source": [
        "train.show()"
      ],
      "execution_count": 27,
      "outputs": [
        {
          "output_type": "stream",
          "text": [
            "+--------------------+-----------------+\n",
            "|            features|         avg_temp|\n",
            "+--------------------+-----------------+\n",
            "|[1975.0,18.255,10...|79.11708141321044|\n",
            "|[1975.0,18.336,6....|81.09575010118418|\n",
            "|[1975.0,19.719,11...|72.35902585765488|\n",
            "|[1975.0,20.79,399...|71.07767868014932|\n",
            "|[1975.0,20.9,15.5...|74.15759408602152|\n",
            "|[1975.0,21.317,15...|75.18506464413724|\n",
            "|[1975.0,21.487,25...|72.82809042675284|\n",
            "|[1975.0,21.984,30...|75.04279185867894|\n",
            "|[1975.0,22.033,7....|75.93634641896564|\n",
            "|[1975.0,24.583,1....|78.99674859190989|\n",
            "|[1975.0,25.483,2....|75.74278673835124|\n",
            "|[1975.0,25.788,8....|76.77397593445983|\n",
            "|[1975.0,25.914,7....|73.02472862263184|\n",
            "|[1975.0,26.184,30...|73.21689132104456|\n",
            "|[1975.0,27.5,15.2...|70.66938300051203|\n",
            "|[1975.0,27.65,20....| 75.9071886140213|\n",
            "|[1975.0,27.683,5....| 73.7376849718382|\n",
            "|[1975.0,27.774,13...| 71.9824980798771|\n",
            "|[1975.0,27.85,4.3...|73.53958781362006|\n",
            "|[1975.0,27.911,3....| 75.3717601126472|\n",
            "+--------------------+-----------------+\n",
            "only showing top 20 rows\n",
            "\n"
          ],
          "name": "stdout"
        }
      ]
    },
    {
      "cell_type": "code",
      "metadata": {
        "colab": {
          "base_uri": "https://localhost:8080/"
        },
        "id": "IImB6WzqkECd",
        "outputId": "f13b3a29-d6a8-4994-c907-aa40eebbd2ce"
      },
      "source": [
        "test.show()"
      ],
      "execution_count": 28,
      "outputs": [
        {
          "output_type": "stream",
          "text": [
            "+--------------------+-----------------+\n",
            "|            features|         avg_temp|\n",
            "+--------------------+-----------------+\n",
            "|[1975.0,18.433,2....|79.68193484383002|\n",
            "|[1975.0,21.155,13...|76.06389411853509|\n",
            "|[1975.0,21.324,2....|75.23113799283155|\n",
            "|[1975.0,21.45,7.3...|75.23592165898617|\n",
            "|[1975.0,24.557,0....|79.18689260112649|\n",
            "|[1975.0,27.401,9....|74.34494815668202|\n",
            "|[1975.0,27.741,54...| 70.8595801331285|\n",
            "|[1975.0,28.233,3....|76.31795285359802|\n",
            "|[1975.0,28.367,20...|68.96269393241167|\n",
            "|[1975.0,28.457,14...|70.37797555043521|\n",
            "|[1975.0,28.725,3....|69.42279889912955|\n",
            "|[1975.0,28.78,17....|76.25212877624169|\n",
            "|[1975.0,29.383,21...|67.82131784434205|\n",
            "|[1975.0,29.617,10...|68.55820148489504|\n",
            "|[1975.0,29.638,14...|69.04866807475679|\n",
            "|[1975.0,29.692,50...|69.67728814644138|\n",
            "|[1975.0,29.817,0....|68.32069252432157|\n",
            "|[1975.0,29.98,29....|67.26517729134665|\n",
            "|[1975.0,30.2,165....|67.01954813108037|\n",
            "|[1975.0,30.371,14...|56.60704990897196|\n",
            "+--------------------+-----------------+\n",
            "only showing top 20 rows\n",
            "\n"
          ],
          "name": "stdout"
        }
      ]
    },
    {
      "cell_type": "code",
      "metadata": {
        "id": "MXnzTZSapkbj"
      },
      "source": [
        "from pyspark.ml.regression import LinearRegression\n",
        "lin_reg = LinearRegression(featuresCol = 'features', labelCol='avg_temp')\n",
        "linear_model = lin_reg.fit(train)\n",
        "linear_model2 = lin_reg.fit(test)"
      ],
      "execution_count": 29,
      "outputs": []
    },
    {
      "cell_type": "code",
      "metadata": {
        "colab": {
          "base_uri": "https://localhost:8080/"
        },
        "id": "HwOwFjRlpko-",
        "outputId": "04a96342-7595-4dbb-8cda-ae28c08812cc"
      },
      "source": [
        "trainSummary = linear_model.summary\n",
        "print(\"RMSE: %f\" % trainSummary.rootMeanSquaredError)\n",
        "print(\"\\nr2: %f\" % trainSummary.r2)"
      ],
      "execution_count": 30,
      "outputs": [
        {
          "output_type": "stream",
          "text": [
            "RMSE: 4.379378\n",
            "\n",
            "r2: 0.856924\n"
          ],
          "name": "stdout"
        }
      ]
    },
    {
      "cell_type": "markdown",
      "metadata": {
        "id": "ThE40Ixp3nQP"
      },
      "source": [
        "Root MSE: absolute measure of fit. Standard deviation of unexplained variance / square root of the variance of the residuals. \n",
        "\n",
        "R-squared: Relative measure of fit. Approximately three-quarters of the observed variation can be explained by the model's inputs. "
      ]
    },
    {
      "cell_type": "code",
      "metadata": {
        "colab": {
          "base_uri": "https://localhost:8080/"
        },
        "id": "hHpbGMmIrt4u",
        "outputId": "813e8f67-27ac-49ca-935f-751276c826cb"
      },
      "source": [
        "testSummary = linear_model2.summary\n",
        "print(\"RMSE: %f\" % testSummary.rootMeanSquaredError)\n",
        "print(\"\\nr2: %f\" % testSummary.r2) # 74.5202% "
      ],
      "execution_count": 31,
      "outputs": [
        {
          "output_type": "stream",
          "text": [
            "RMSE: 4.286972\n",
            "\n",
            "r2: 0.863175\n"
          ],
          "name": "stdout"
        }
      ]
    },
    {
      "cell_type": "markdown",
      "metadata": {
        "id": "Ba0HKOXN4mzG"
      },
      "source": [
        ""
      ]
    },
    {
      "cell_type": "markdown",
      "metadata": {
        "id": "G7B4QWFP3odV"
      },
      "source": [
        "Root MSE: absolute measure of fit. standard deviation of unexplained variance / square root of the variance of the residuals. \n",
        "\n",
        "R-squared: relative measure of fit. approximately three-quarters of the observed variation can be explained by the model's inputs."
      ]
    },
    {
      "cell_type": "markdown",
      "metadata": {
        "id": "iJGFLb1g4n8c"
      },
      "source": [
        "# Make Predictions Using Trained Model\n"
      ]
    },
    {
      "cell_type": "code",
      "metadata": {
        "id": "wOrNFmHIC0MJ"
      },
      "source": [
        "url7 = \"https://storage.googleapis.com/ucb_finalproject_nn/yearly_data/US_Capitols_new.csv\""
      ],
      "execution_count": 32,
      "outputs": []
    },
    {
      "cell_type": "code",
      "metadata": {
        "id": "YapvNRERC05O"
      },
      "source": [
        "spark.sparkContext.addFile(url7)\n",
        "df7 = spark.read.csv(SparkFiles.get(\"US_Capitols_new.csv\"), sep=\",\", header=True)"
      ],
      "execution_count": 33,
      "outputs": []
    },
    {
      "cell_type": "code",
      "metadata": {
        "colab": {
          "base_uri": "https://localhost:8080/"
        },
        "id": "k9oeIxp1tSQP",
        "outputId": "6ff9f956-e25e-4885-ed31-bd38fe1d0834"
      },
      "source": [
        "df8 = df7[[\"Year\",\"State\", \"City\"]]\n",
        "\n",
        "df8.show()"
      ],
      "execution_count": 34,
      "outputs": [
        {
          "output_type": "stream",
          "text": [
            "+----+-----+------------+\n",
            "|Year|State|        City|\n",
            "+----+-----+------------+\n",
            "|2025|   AL|  Montgomery|\n",
            "|2025|   AK|      Juneau|\n",
            "|2025|   AZ|     Phoenix|\n",
            "|2025|   AR| Little Rock|\n",
            "|2025|   CA|  Sacramento|\n",
            "|2025|   CO|      Denver|\n",
            "|2025|   CT|    Hartford|\n",
            "|2025|   DE|       Dover|\n",
            "|2025|   FL| Tallahassee|\n",
            "|2025|   GA|     Atlanta|\n",
            "|2025|   HI|    Honolulu|\n",
            "|2025|   ID|       Boise|\n",
            "|2025|   IL| Springfield|\n",
            "|2025|   IN|Indianapolis|\n",
            "|2025|   IA|  Des Moines|\n",
            "|2025|   KS|      Topeka|\n",
            "|2025|   KY|   Frankfort|\n",
            "|2025|   LA| Baton Rouge|\n",
            "|2025|   ME|     Augusta|\n",
            "|2025|   MD|   Annapolis|\n",
            "+----+-----+------------+\n",
            "only showing top 20 rows\n",
            "\n"
          ],
          "name": "stdout"
        }
      ]
    },
    {
      "cell_type": "code",
      "metadata": {
        "id": "RsYHhLcByVBU"
      },
      "source": [
        "df7 = df7.drop('State', 'City')"
      ],
      "execution_count": 35,
      "outputs": []
    },
    {
      "cell_type": "code",
      "metadata": {
        "colab": {
          "base_uri": "https://localhost:8080/"
        },
        "id": "EX3dPWwWtSaM",
        "outputId": "c93198b4-f0c8-4fff-cbaa-e94d432e7061"
      },
      "source": [
        "df_modified2 = df7.drop('Elevation_ft', 'Dew_Point')\n",
        "\n",
        "df_modified2.show()"
      ],
      "execution_count": 36,
      "outputs": [
        {
          "output_type": "stream",
          "text": [
            "+----+-------+-----------+------+\n",
            "|Year|    Lat|Elevation_m|   CO2|\n",
            "+----+-------+-----------+------+\n",
            "|2025|   32.3|     73.152|424.49|\n",
            "|2025|  58.37|    17.0688|424.49|\n",
            "|2025|  33.43|   331.0128|424.49|\n",
            "|2025|  35.22|    102.108|424.49|\n",
            "|2025|  38.52|      9.144|424.49|\n",
            "|2025|  39.75|   1609.344|424.49|\n",
            "|2025|  41.73|    17.9832|424.49|\n",
            "|2025|  39.13|      9.144|424.49|\n",
            "|2025|  30.38|    61.8744|424.49|\n",
            "|2025|  33.65|     320.04|424.49|\n",
            "|2025|21.3294|   6.001512|424.49|\n",
            "|2025|43.6007|    832.104|424.49|\n",
            "|2025|  39.85|   170.0784|424.49|\n",
            "|2025|39.7771|    217.932|424.49|\n",
            "|2025|  41.53|    291.084|424.49|\n",
            "|2025|  39.07|    288.036|424.49|\n",
            "|2025|38.1924|   155.1432|424.49|\n",
            "|2025|  30.53|    17.0688|424.49|\n",
            "|2025|  44.32|    20.7264|424.49|\n",
            "|2025|  38.97|    11.8872|424.49|\n",
            "+----+-------+-----------+------+\n",
            "only showing top 20 rows\n",
            "\n"
          ],
          "name": "stdout"
        }
      ]
    },
    {
      "cell_type": "code",
      "metadata": {
        "id": "Z7d2tYfwtSBx"
      },
      "source": [
        "df_modified2 = df_modified2.selectExpr(\"cast(Year as int) Year\",\n",
        "    \"cast(Lat as double) Lat\",\n",
        "    \"cast(Elevation_m as double) Elevation_m\", \n",
        "    \"cast(CO2 as double) CO2\")"
      ],
      "execution_count": 37,
      "outputs": []
    },
    {
      "cell_type": "code",
      "metadata": {
        "id": "yVrdqcWN5Kx9",
        "colab": {
          "base_uri": "https://localhost:8080/"
        },
        "outputId": "a6a10948-8df6-4445-d007-167d123ac563"
      },
      "source": [
        "features2 = df_modified2\n",
        "\n",
        "features2.show()"
      ],
      "execution_count": 38,
      "outputs": [
        {
          "output_type": "stream",
          "text": [
            "+----+-------+-----------+------+\n",
            "|Year|    Lat|Elevation_m|   CO2|\n",
            "+----+-------+-----------+------+\n",
            "|2025|   32.3|     73.152|424.49|\n",
            "|2025|  58.37|    17.0688|424.49|\n",
            "|2025|  33.43|   331.0128|424.49|\n",
            "|2025|  35.22|    102.108|424.49|\n",
            "|2025|  38.52|      9.144|424.49|\n",
            "|2025|  39.75|   1609.344|424.49|\n",
            "|2025|  41.73|    17.9832|424.49|\n",
            "|2025|  39.13|      9.144|424.49|\n",
            "|2025|  30.38|    61.8744|424.49|\n",
            "|2025|  33.65|     320.04|424.49|\n",
            "|2025|21.3294|   6.001512|424.49|\n",
            "|2025|43.6007|    832.104|424.49|\n",
            "|2025|  39.85|   170.0784|424.49|\n",
            "|2025|39.7771|    217.932|424.49|\n",
            "|2025|  41.53|    291.084|424.49|\n",
            "|2025|  39.07|    288.036|424.49|\n",
            "|2025|38.1924|   155.1432|424.49|\n",
            "|2025|  30.53|    17.0688|424.49|\n",
            "|2025|  44.32|    20.7264|424.49|\n",
            "|2025|  38.97|    11.8872|424.49|\n",
            "+----+-------+-----------+------+\n",
            "only showing top 20 rows\n",
            "\n"
          ],
          "name": "stdout"
        }
      ]
    },
    {
      "cell_type": "code",
      "metadata": {
        "id": "vSME3eba5K1n"
      },
      "source": [
        "assembler2 = VectorAssembler(inputCols=features2.columns, outputCol=\"features\", handleInvalid=\"skip\")"
      ],
      "execution_count": 39,
      "outputs": []
    },
    {
      "cell_type": "code",
      "metadata": {
        "id": "gsgQhDaB5K5B",
        "colab": {
          "base_uri": "https://localhost:8080/"
        },
        "outputId": "ddf85da0-2f01-403e-d6b7-dce0fe9bb735"
      },
      "source": [
        "output2 = assembler2.transform(features2).select('features')\n",
        "\n",
        "output2.show()"
      ],
      "execution_count": 40,
      "outputs": [
        {
          "output_type": "stream",
          "text": [
            "+--------------------+\n",
            "|            features|\n",
            "+--------------------+\n",
            "|[2025.0,32.3,73.1...|\n",
            "|[2025.0,58.37,17....|\n",
            "|[2025.0,33.43,331...|\n",
            "|[2025.0,35.22,102...|\n",
            "|[2025.0,38.52,9.1...|\n",
            "|[2025.0,39.75,160...|\n",
            "|[2025.0,41.73,17....|\n",
            "|[2025.0,39.13,9.1...|\n",
            "|[2025.0,30.38,61....|\n",
            "|[2025.0,33.65,320...|\n",
            "|[2025.0,21.3294,6...|\n",
            "|[2025.0,43.6007,8...|\n",
            "|[2025.0,39.85,170...|\n",
            "|[2025.0,39.7771,2...|\n",
            "|[2025.0,41.53,291...|\n",
            "|[2025.0,39.07,288...|\n",
            "|[2025.0,38.1924,1...|\n",
            "|[2025.0,30.53,17....|\n",
            "|[2025.0,44.32,20....|\n",
            "|[2025.0,38.97,11....|\n",
            "+--------------------+\n",
            "only showing top 20 rows\n",
            "\n"
          ],
          "name": "stdout"
        }
      ]
    },
    {
      "cell_type": "code",
      "metadata": {
        "id": "Qtkr9nVh5K79"
      },
      "source": [
        "lin_reg2 = LinearRegression(featuresCol = 'features')"
      ],
      "execution_count": 41,
      "outputs": []
    },
    {
      "cell_type": "code",
      "metadata": {
        "id": "xqdjjwq6EXXU"
      },
      "source": [
        "lr_predictions = linear_model.transform(output2)"
      ],
      "execution_count": 42,
      "outputs": []
    },
    {
      "cell_type": "code",
      "metadata": {
        "id": "CBMa6GI0EXig",
        "colab": {
          "base_uri": "https://localhost:8080/"
        },
        "outputId": "6d25bfa5-3049-463d-d976-32adcf3151f6"
      },
      "source": [
        "lr_predictions.show()"
      ],
      "execution_count": 43,
      "outputs": [
        {
          "output_type": "stream",
          "text": [
            "+--------------------+------------------+\n",
            "|            features|        prediction|\n",
            "+--------------------+------------------+\n",
            "|[2025.0,32.3,73.1...| 65.57672383755704|\n",
            "|[2025.0,58.37,17....|34.595073530901715|\n",
            "|[2025.0,33.43,331...| 63.05412428059477|\n",
            "|[2025.0,35.22,102...|61.946883271139505|\n",
            "|[2025.0,38.52,9.1...|58.414315647343216|\n",
            "|[2025.0,39.75,160...|49.688095768829626|\n",
            "|[2025.0,41.73,17....| 54.52818507741475|\n",
            "|[2025.0,39.13,9.1...|57.683442687305856|\n",
            "|[2025.0,30.38,61....| 67.92828923690857|\n",
            "|[2025.0,33.65,320...|62.840262130717655|\n",
            "|[2025.0,21.3294,6...| 79.02551669682484|\n",
            "|[2025.0,43.6007,8...|  48.5970095296376|\n",
            "|[2025.0,39.85,170...|56.091379439141534|\n",
            "|[2025.0,39.7771,2...| 55.96184068915805|\n",
            "|[2025.0,41.53,291...| 53.53005684729354|\n",
            "|[2025.0,39.07,288...|56.491326006616845|\n",
            "|[2025.0,38.1924,1...| 58.14512677600224|\n",
            "|[2025.0,30.53,17....|  67.9516361660491|\n",
            "|[2025.0,44.32,20....| 51.41253753406633|\n",
            "|[2025.0,38.97,11....| 57.86271422609303|\n",
            "+--------------------+------------------+\n",
            "only showing top 20 rows\n",
            "\n"
          ],
          "name": "stdout"
        }
      ]
    },
    {
      "cell_type": "code",
      "metadata": {
        "colab": {
          "base_uri": "https://localhost:8080/",
          "height": 194
        },
        "id": "T_qTBbwK3Nnm",
        "outputId": "e455f5a6-3ad2-4034-b469-99dbf6c90dac"
      },
      "source": [
        "lr_pandas = lr_predictions.toPandas()\n",
        "\n",
        "lr_pandas.head()"
      ],
      "execution_count": 44,
      "outputs": [
        {
          "output_type": "execute_result",
          "data": {
            "application/vnd.google.colaboratory.module+javascript": "\n      import \"https://ssl.gstatic.com/colaboratory/data_table/a6224c040fa35dcf/data_table.js\";\n\n      window.createDataTable({\n        data: [[{\n            'v': 0,\n            'f': \"0\",\n        },\n\"[2025.0,32.3,73.152,424.49]\",\n{\n            'v': 65.57672383755704,\n            'f': \"65.57672383755704\",\n        }],\n [{\n            'v': 1,\n            'f': \"1\",\n        },\n\"[2025.0,58.37,17.0688,424.49]\",\n{\n            'v': 34.595073530901715,\n            'f': \"34.595073530901715\",\n        }],\n [{\n            'v': 2,\n            'f': \"2\",\n        },\n\"[2025.0,33.43,331.0128,424.49]\",\n{\n            'v': 63.05412428059477,\n            'f': \"63.05412428059477\",\n        }],\n [{\n            'v': 3,\n            'f': \"3\",\n        },\n\"[2025.0,35.22,102.108,424.49]\",\n{\n            'v': 61.946883271139505,\n            'f': \"61.946883271139505\",\n        }],\n [{\n            'v': 4,\n            'f': \"4\",\n        },\n\"[2025.0,38.52,9.144,424.49]\",\n{\n            'v': 58.414315647343216,\n            'f': \"58.414315647343216\",\n        }]],\n        columns: [[\"number\", \"index\"], [\"string\", \"features\"], [\"number\", \"prediction\"]],\n        columnOptions: [{\"width\": \"1px\", \"className\": \"index_column\"}],\n        rowsPerPage: 25,\n        helpUrl: \"https://colab.research.google.com/notebooks/data_table.ipynb\",\n        suppressOutputScrolling: true,\n        minimumWidth: undefined,\n      });\n    ",
            "text/html": [
              "<div>\n",
              "<style scoped>\n",
              "    .dataframe tbody tr th:only-of-type {\n",
              "        vertical-align: middle;\n",
              "    }\n",
              "\n",
              "    .dataframe tbody tr th {\n",
              "        vertical-align: top;\n",
              "    }\n",
              "\n",
              "    .dataframe thead th {\n",
              "        text-align: right;\n",
              "    }\n",
              "</style>\n",
              "<table border=\"1\" class=\"dataframe\">\n",
              "  <thead>\n",
              "    <tr style=\"text-align: right;\">\n",
              "      <th></th>\n",
              "      <th>features</th>\n",
              "      <th>prediction</th>\n",
              "    </tr>\n",
              "  </thead>\n",
              "  <tbody>\n",
              "    <tr>\n",
              "      <th>0</th>\n",
              "      <td>[2025.0, 32.3, 73.152, 424.49]</td>\n",
              "      <td>65.576724</td>\n",
              "    </tr>\n",
              "    <tr>\n",
              "      <th>1</th>\n",
              "      <td>[2025.0, 58.37, 17.0688, 424.49]</td>\n",
              "      <td>34.595074</td>\n",
              "    </tr>\n",
              "    <tr>\n",
              "      <th>2</th>\n",
              "      <td>[2025.0, 33.43, 331.0128, 424.49]</td>\n",
              "      <td>63.054124</td>\n",
              "    </tr>\n",
              "    <tr>\n",
              "      <th>3</th>\n",
              "      <td>[2025.0, 35.22, 102.108, 424.49]</td>\n",
              "      <td>61.946883</td>\n",
              "    </tr>\n",
              "    <tr>\n",
              "      <th>4</th>\n",
              "      <td>[2025.0, 38.52, 9.144, 424.49]</td>\n",
              "      <td>58.414316</td>\n",
              "    </tr>\n",
              "  </tbody>\n",
              "</table>\n",
              "</div>"
            ],
            "text/plain": [
              "                            features  prediction\n",
              "0     [2025.0, 32.3, 73.152, 424.49]   65.576724\n",
              "1   [2025.0, 58.37, 17.0688, 424.49]   34.595074\n",
              "2  [2025.0, 33.43, 331.0128, 424.49]   63.054124\n",
              "3   [2025.0, 35.22, 102.108, 424.49]   61.946883\n",
              "4     [2025.0, 38.52, 9.144, 424.49]   58.414316"
            ]
          },
          "metadata": {
            "tags": []
          },
          "execution_count": 44
        }
      ]
    },
    {
      "cell_type": "code",
      "metadata": {
        "colab": {
          "base_uri": "https://localhost:8080/",
          "height": 194
        },
        "id": "fI8IVp0q1Gv1",
        "outputId": "f5a382fa-8cfc-4008-d0ce-f0b17cd72297"
      },
      "source": [
        "df8_pandas = df8.toPandas()\n",
        "\n",
        "df8_pandas.head()"
      ],
      "execution_count": 45,
      "outputs": [
        {
          "output_type": "execute_result",
          "data": {
            "application/vnd.google.colaboratory.module+javascript": "\n      import \"https://ssl.gstatic.com/colaboratory/data_table/a6224c040fa35dcf/data_table.js\";\n\n      window.createDataTable({\n        data: [[{\n            'v': 0,\n            'f': \"0\",\n        },\n\"2025\",\n\"AL\",\n\"Montgomery\"],\n [{\n            'v': 1,\n            'f': \"1\",\n        },\n\"2025\",\n\"AK\",\n\"Juneau\"],\n [{\n            'v': 2,\n            'f': \"2\",\n        },\n\"2025\",\n\"AZ\",\n\"Phoenix\"],\n [{\n            'v': 3,\n            'f': \"3\",\n        },\n\"2025\",\n\"AR\",\n\"Little Rock\"],\n [{\n            'v': 4,\n            'f': \"4\",\n        },\n\"2025\",\n\"CA\",\n\"Sacramento\"]],\n        columns: [[\"number\", \"index\"], [\"string\", \"Year\"], [\"string\", \"State\"], [\"string\", \"City\"]],\n        columnOptions: [{\"width\": \"1px\", \"className\": \"index_column\"}],\n        rowsPerPage: 25,\n        helpUrl: \"https://colab.research.google.com/notebooks/data_table.ipynb\",\n        suppressOutputScrolling: true,\n        minimumWidth: undefined,\n      });\n    ",
            "text/html": [
              "<div>\n",
              "<style scoped>\n",
              "    .dataframe tbody tr th:only-of-type {\n",
              "        vertical-align: middle;\n",
              "    }\n",
              "\n",
              "    .dataframe tbody tr th {\n",
              "        vertical-align: top;\n",
              "    }\n",
              "\n",
              "    .dataframe thead th {\n",
              "        text-align: right;\n",
              "    }\n",
              "</style>\n",
              "<table border=\"1\" class=\"dataframe\">\n",
              "  <thead>\n",
              "    <tr style=\"text-align: right;\">\n",
              "      <th></th>\n",
              "      <th>Year</th>\n",
              "      <th>State</th>\n",
              "      <th>City</th>\n",
              "    </tr>\n",
              "  </thead>\n",
              "  <tbody>\n",
              "    <tr>\n",
              "      <th>0</th>\n",
              "      <td>2025</td>\n",
              "      <td>AL</td>\n",
              "      <td>Montgomery</td>\n",
              "    </tr>\n",
              "    <tr>\n",
              "      <th>1</th>\n",
              "      <td>2025</td>\n",
              "      <td>AK</td>\n",
              "      <td>Juneau</td>\n",
              "    </tr>\n",
              "    <tr>\n",
              "      <th>2</th>\n",
              "      <td>2025</td>\n",
              "      <td>AZ</td>\n",
              "      <td>Phoenix</td>\n",
              "    </tr>\n",
              "    <tr>\n",
              "      <th>3</th>\n",
              "      <td>2025</td>\n",
              "      <td>AR</td>\n",
              "      <td>Little Rock</td>\n",
              "    </tr>\n",
              "    <tr>\n",
              "      <th>4</th>\n",
              "      <td>2025</td>\n",
              "      <td>CA</td>\n",
              "      <td>Sacramento</td>\n",
              "    </tr>\n",
              "  </tbody>\n",
              "</table>\n",
              "</div>"
            ],
            "text/plain": [
              "   Year State         City\n",
              "0  2025    AL   Montgomery\n",
              "1  2025    AK       Juneau\n",
              "2  2025    AZ      Phoenix\n",
              "3  2025    AR  Little Rock\n",
              "4  2025    CA   Sacramento"
            ]
          },
          "metadata": {
            "tags": []
          },
          "execution_count": 45
        }
      ]
    },
    {
      "cell_type": "code",
      "metadata": {
        "id": "QcFO_hd--OnG"
      },
      "source": [
        "combined_df = pd.concat([df8_pandas, lr_pandas], axis=1)"
      ],
      "execution_count": 46,
      "outputs": []
    },
    {
      "cell_type": "code",
      "metadata": {
        "colab": {
          "base_uri": "https://localhost:8080/",
          "height": 194
        },
        "id": "4Mpx4hO1_XBa",
        "outputId": "a2e0fe93-bd80-487d-eb7a-f02ba06d5c1f"
      },
      "source": [
        "combined_df.head()"
      ],
      "execution_count": 47,
      "outputs": [
        {
          "output_type": "execute_result",
          "data": {
            "application/vnd.google.colaboratory.module+javascript": "\n      import \"https://ssl.gstatic.com/colaboratory/data_table/a6224c040fa35dcf/data_table.js\";\n\n      window.createDataTable({\n        data: [[{\n            'v': 0,\n            'f': \"0\",\n        },\n\"2025\",\n\"AL\",\n\"Montgomery\",\n\"[2025.0,32.3,73.152,424.49]\",\n{\n            'v': 65.57672383755704,\n            'f': \"65.57672383755704\",\n        }],\n [{\n            'v': 1,\n            'f': \"1\",\n        },\n\"2025\",\n\"AK\",\n\"Juneau\",\n\"[2025.0,58.37,17.0688,424.49]\",\n{\n            'v': 34.595073530901715,\n            'f': \"34.595073530901715\",\n        }],\n [{\n            'v': 2,\n            'f': \"2\",\n        },\n\"2025\",\n\"AZ\",\n\"Phoenix\",\n\"[2025.0,33.43,331.0128,424.49]\",\n{\n            'v': 63.05412428059477,\n            'f': \"63.05412428059477\",\n        }],\n [{\n            'v': 3,\n            'f': \"3\",\n        },\n\"2025\",\n\"AR\",\n\"Little Rock\",\n\"[2025.0,35.22,102.108,424.49]\",\n{\n            'v': 61.946883271139505,\n            'f': \"61.946883271139505\",\n        }],\n [{\n            'v': 4,\n            'f': \"4\",\n        },\n\"2025\",\n\"CA\",\n\"Sacramento\",\n\"[2025.0,38.52,9.144,424.49]\",\n{\n            'v': 58.414315647343216,\n            'f': \"58.414315647343216\",\n        }]],\n        columns: [[\"number\", \"index\"], [\"string\", \"Year\"], [\"string\", \"State\"], [\"string\", \"City\"], [\"string\", \"features\"], [\"number\", \"prediction\"]],\n        columnOptions: [{\"width\": \"1px\", \"className\": \"index_column\"}],\n        rowsPerPage: 25,\n        helpUrl: \"https://colab.research.google.com/notebooks/data_table.ipynb\",\n        suppressOutputScrolling: true,\n        minimumWidth: undefined,\n      });\n    ",
            "text/html": [
              "<div>\n",
              "<style scoped>\n",
              "    .dataframe tbody tr th:only-of-type {\n",
              "        vertical-align: middle;\n",
              "    }\n",
              "\n",
              "    .dataframe tbody tr th {\n",
              "        vertical-align: top;\n",
              "    }\n",
              "\n",
              "    .dataframe thead th {\n",
              "        text-align: right;\n",
              "    }\n",
              "</style>\n",
              "<table border=\"1\" class=\"dataframe\">\n",
              "  <thead>\n",
              "    <tr style=\"text-align: right;\">\n",
              "      <th></th>\n",
              "      <th>Year</th>\n",
              "      <th>State</th>\n",
              "      <th>City</th>\n",
              "      <th>features</th>\n",
              "      <th>prediction</th>\n",
              "    </tr>\n",
              "  </thead>\n",
              "  <tbody>\n",
              "    <tr>\n",
              "      <th>0</th>\n",
              "      <td>2025</td>\n",
              "      <td>AL</td>\n",
              "      <td>Montgomery</td>\n",
              "      <td>[2025.0, 32.3, 73.152, 424.49]</td>\n",
              "      <td>65.576724</td>\n",
              "    </tr>\n",
              "    <tr>\n",
              "      <th>1</th>\n",
              "      <td>2025</td>\n",
              "      <td>AK</td>\n",
              "      <td>Juneau</td>\n",
              "      <td>[2025.0, 58.37, 17.0688, 424.49]</td>\n",
              "      <td>34.595074</td>\n",
              "    </tr>\n",
              "    <tr>\n",
              "      <th>2</th>\n",
              "      <td>2025</td>\n",
              "      <td>AZ</td>\n",
              "      <td>Phoenix</td>\n",
              "      <td>[2025.0, 33.43, 331.0128, 424.49]</td>\n",
              "      <td>63.054124</td>\n",
              "    </tr>\n",
              "    <tr>\n",
              "      <th>3</th>\n",
              "      <td>2025</td>\n",
              "      <td>AR</td>\n",
              "      <td>Little Rock</td>\n",
              "      <td>[2025.0, 35.22, 102.108, 424.49]</td>\n",
              "      <td>61.946883</td>\n",
              "    </tr>\n",
              "    <tr>\n",
              "      <th>4</th>\n",
              "      <td>2025</td>\n",
              "      <td>CA</td>\n",
              "      <td>Sacramento</td>\n",
              "      <td>[2025.0, 38.52, 9.144, 424.49]</td>\n",
              "      <td>58.414316</td>\n",
              "    </tr>\n",
              "  </tbody>\n",
              "</table>\n",
              "</div>"
            ],
            "text/plain": [
              "   Year State         City                           features  prediction\n",
              "0  2025    AL   Montgomery     [2025.0, 32.3, 73.152, 424.49]   65.576724\n",
              "1  2025    AK       Juneau   [2025.0, 58.37, 17.0688, 424.49]   34.595074\n",
              "2  2025    AZ      Phoenix  [2025.0, 33.43, 331.0128, 424.49]   63.054124\n",
              "3  2025    AR  Little Rock   [2025.0, 35.22, 102.108, 424.49]   61.946883\n",
              "4  2025    CA   Sacramento     [2025.0, 38.52, 9.144, 424.49]   58.414316"
            ]
          },
          "metadata": {
            "tags": []
          },
          "execution_count": 47
        }
      ]
    },
    {
      "cell_type": "code",
      "metadata": {
        "id": "CS6iRoGZA-KL"
      },
      "source": [
        "final_predictions = combined_df.drop(['features'], axis=1)"
      ],
      "execution_count": 48,
      "outputs": []
    },
    {
      "cell_type": "code",
      "metadata": {
        "colab": {
          "base_uri": "https://localhost:8080/",
          "height": 194
        },
        "id": "DkKZtsCPBRjn",
        "outputId": "1ed7b76e-8907-4905-dec0-e1e8ca130a35"
      },
      "source": [
        "final_predictions.head()"
      ],
      "execution_count": 49,
      "outputs": [
        {
          "output_type": "execute_result",
          "data": {
            "application/vnd.google.colaboratory.module+javascript": "\n      import \"https://ssl.gstatic.com/colaboratory/data_table/a6224c040fa35dcf/data_table.js\";\n\n      window.createDataTable({\n        data: [[{\n            'v': 0,\n            'f': \"0\",\n        },\n\"2025\",\n\"AL\",\n\"Montgomery\",\n{\n            'v': 65.57672383755704,\n            'f': \"65.57672383755704\",\n        }],\n [{\n            'v': 1,\n            'f': \"1\",\n        },\n\"2025\",\n\"AK\",\n\"Juneau\",\n{\n            'v': 34.595073530901715,\n            'f': \"34.595073530901715\",\n        }],\n [{\n            'v': 2,\n            'f': \"2\",\n        },\n\"2025\",\n\"AZ\",\n\"Phoenix\",\n{\n            'v': 63.05412428059477,\n            'f': \"63.05412428059477\",\n        }],\n [{\n            'v': 3,\n            'f': \"3\",\n        },\n\"2025\",\n\"AR\",\n\"Little Rock\",\n{\n            'v': 61.946883271139505,\n            'f': \"61.946883271139505\",\n        }],\n [{\n            'v': 4,\n            'f': \"4\",\n        },\n\"2025\",\n\"CA\",\n\"Sacramento\",\n{\n            'v': 58.414315647343216,\n            'f': \"58.414315647343216\",\n        }]],\n        columns: [[\"number\", \"index\"], [\"string\", \"Year\"], [\"string\", \"State\"], [\"string\", \"City\"], [\"number\", \"prediction\"]],\n        columnOptions: [{\"width\": \"1px\", \"className\": \"index_column\"}],\n        rowsPerPage: 25,\n        helpUrl: \"https://colab.research.google.com/notebooks/data_table.ipynb\",\n        suppressOutputScrolling: true,\n        minimumWidth: undefined,\n      });\n    ",
            "text/html": [
              "<div>\n",
              "<style scoped>\n",
              "    .dataframe tbody tr th:only-of-type {\n",
              "        vertical-align: middle;\n",
              "    }\n",
              "\n",
              "    .dataframe tbody tr th {\n",
              "        vertical-align: top;\n",
              "    }\n",
              "\n",
              "    .dataframe thead th {\n",
              "        text-align: right;\n",
              "    }\n",
              "</style>\n",
              "<table border=\"1\" class=\"dataframe\">\n",
              "  <thead>\n",
              "    <tr style=\"text-align: right;\">\n",
              "      <th></th>\n",
              "      <th>Year</th>\n",
              "      <th>State</th>\n",
              "      <th>City</th>\n",
              "      <th>prediction</th>\n",
              "    </tr>\n",
              "  </thead>\n",
              "  <tbody>\n",
              "    <tr>\n",
              "      <th>0</th>\n",
              "      <td>2025</td>\n",
              "      <td>AL</td>\n",
              "      <td>Montgomery</td>\n",
              "      <td>65.576724</td>\n",
              "    </tr>\n",
              "    <tr>\n",
              "      <th>1</th>\n",
              "      <td>2025</td>\n",
              "      <td>AK</td>\n",
              "      <td>Juneau</td>\n",
              "      <td>34.595074</td>\n",
              "    </tr>\n",
              "    <tr>\n",
              "      <th>2</th>\n",
              "      <td>2025</td>\n",
              "      <td>AZ</td>\n",
              "      <td>Phoenix</td>\n",
              "      <td>63.054124</td>\n",
              "    </tr>\n",
              "    <tr>\n",
              "      <th>3</th>\n",
              "      <td>2025</td>\n",
              "      <td>AR</td>\n",
              "      <td>Little Rock</td>\n",
              "      <td>61.946883</td>\n",
              "    </tr>\n",
              "    <tr>\n",
              "      <th>4</th>\n",
              "      <td>2025</td>\n",
              "      <td>CA</td>\n",
              "      <td>Sacramento</td>\n",
              "      <td>58.414316</td>\n",
              "    </tr>\n",
              "  </tbody>\n",
              "</table>\n",
              "</div>"
            ],
            "text/plain": [
              "   Year State         City  prediction\n",
              "0  2025    AL   Montgomery   65.576724\n",
              "1  2025    AK       Juneau   34.595074\n",
              "2  2025    AZ      Phoenix   63.054124\n",
              "3  2025    AR  Little Rock   61.946883\n",
              "4  2025    CA   Sacramento   58.414316"
            ]
          },
          "metadata": {
            "tags": []
          },
          "execution_count": 49
        }
      ]
    },
    {
      "cell_type": "code",
      "metadata": {
        "id": "sb9nRg_O7yMg"
      },
      "source": [
        "final_predictions.to_csv('capital_predictions.csv', index=False) "
      ],
      "execution_count": 50,
      "outputs": []
    },
    {
      "cell_type": "code",
      "metadata": {
        "id": "PZuUBg5F7wZM"
      },
      "source": [
        ""
      ],
      "execution_count": null,
      "outputs": []
    }
  ]
}
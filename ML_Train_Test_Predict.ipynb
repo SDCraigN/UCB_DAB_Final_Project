{
  "nbformat": 4,
  "nbformat_minor": 0,
  "metadata": {
    "colab": {
      "name": "ML_Train_Test_Predict.ipynb",
      "provenance": [],
      "collapsed_sections": []
    },
    "kernelspec": {
      "name": "python3",
      "display_name": "Python 3"
    }
  },
  "cells": [
    {
      "cell_type": "markdown",
      "metadata": {
        "id": "GYrVSkrF8sw4"
      },
      "source": [
        "# Authorization and Imports\n"
      ]
    },
    {
      "cell_type": "code",
      "metadata": {
        "id": "7wI3sQelkdD8"
      },
      "source": [
        "from google.colab import auth\n",
        "auth.authenticate_user()"
      ],
      "execution_count": 3,
      "outputs": []
    },
    {
      "cell_type": "code",
      "metadata": {
        "id": "27GNl6g-kjLx"
      },
      "source": [
        "%load_ext google.colab.data_table"
      ],
      "execution_count": 4,
      "outputs": []
    },
    {
      "cell_type": "code",
      "metadata": {
        "id": "AJSc6JD2k0UG"
      },
      "source": [
        "%%bigquery --project plucky-zodiac-283501 df\n",
        "SELECT *\n",
        "FROM cleandata.combineddata"
      ],
      "execution_count": 5,
      "outputs": []
    },
    {
      "cell_type": "code",
      "metadata": {
        "colab": {
          "base_uri": "https://localhost:8080/"
        },
        "id": "H7tVECWmWcKB",
        "outputId": "7e7c47d1-c0ff-43b8-d228-70ea8362a039"
      },
      "source": [
        "import os\n",
        "# Find the latest version of spark 3.0  from http://www-us.apache.org/dist/spark/ and enter as the spark version\n",
        "# For example:\n",
        "# spark_version = 'spark-3.0.1'\n",
        "spark_version = 'spark-3.0.1'\n",
        "os.environ['SPARK_VERSION']=spark_version\n",
        "\n",
        "# Install Spark and Java\n",
        "!apt-get update\n",
        "!apt-get install openjdk-11-jdk-headless -qq > /dev/null\n",
        "!wget -q http://www-us.apache.org/dist/spark/$SPARK_VERSION/$SPARK_VERSION-bin-hadoop2.7.tgz\n",
        "!tar xf $SPARK_VERSION-bin-hadoop2.7.tgz\n",
        "!pip install -q findspark\n",
        "\n",
        "# Set Environment Variables\n",
        "os.environ[\"JAVA_HOME\"] = \"/usr/lib/jvm/java-11-openjdk-amd64\"\n",
        "os.environ[\"SPARK_HOME\"] = f\"/content/{spark_version}-bin-hadoop2.7\"\n",
        "\n",
        "# Start a SparkSession\n",
        "import findspark\n",
        "findspark.init()"
      ],
      "execution_count": 6,
      "outputs": [
        {
          "output_type": "stream",
          "text": [
            "Get:1 https://cloud.r-project.org/bin/linux/ubuntu bionic-cran40/ InRelease [3,626 B]\n",
            "Ign:2 https://developer.download.nvidia.com/compute/cuda/repos/ubuntu1804/x86_64  InRelease\n",
            "Get:3 http://security.ubuntu.com/ubuntu bionic-security InRelease [88.7 kB]\n",
            "Ign:4 https://developer.download.nvidia.com/compute/machine-learning/repos/ubuntu1804/x86_64  InRelease\n",
            "Get:5 https://developer.download.nvidia.com/compute/cuda/repos/ubuntu1804/x86_64  Release [697 B]\n",
            "Hit:6 https://developer.download.nvidia.com/compute/machine-learning/repos/ubuntu1804/x86_64  Release\n",
            "Get:7 https://developer.download.nvidia.com/compute/cuda/repos/ubuntu1804/x86_64  Release.gpg [836 B]\n",
            "Get:8 http://ppa.launchpad.net/c2d4u.team/c2d4u4.0+/ubuntu bionic InRelease [15.9 kB]\n",
            "Hit:10 http://archive.ubuntu.com/ubuntu bionic InRelease\n",
            "Get:11 http://archive.ubuntu.com/ubuntu bionic-updates InRelease [88.7 kB]\n",
            "Ign:12 https://developer.download.nvidia.com/compute/cuda/repos/ubuntu1804/x86_64  Packages\n",
            "Get:12 https://developer.download.nvidia.com/compute/cuda/repos/ubuntu1804/x86_64  Packages [442 kB]\n",
            "Hit:13 http://ppa.launchpad.net/graphics-drivers/ppa/ubuntu bionic InRelease\n",
            "Get:14 http://ppa.launchpad.net/c2d4u.team/c2d4u4.0+/ubuntu bionic/main Sources [1,690 kB]\n",
            "Get:15 http://security.ubuntu.com/ubuntu bionic-security/universe amd64 Packages [1,365 kB]\n",
            "Get:16 http://archive.ubuntu.com/ubuntu bionic-backports InRelease [74.6 kB]\n",
            "Get:17 http://archive.ubuntu.com/ubuntu bionic-updates/main amd64 Packages [2,208 kB]\n",
            "Get:18 http://security.ubuntu.com/ubuntu bionic-security/main amd64 Packages [1,781 kB]\n",
            "Get:19 http://archive.ubuntu.com/ubuntu bionic-updates/multiverse amd64 Packages [54.3 kB]\n",
            "Get:20 http://archive.ubuntu.com/ubuntu bionic-updates/universe amd64 Packages [2,130 kB]\n",
            "Get:21 http://archive.ubuntu.com/ubuntu bionic-updates/restricted amd64 Packages [252 kB]\n",
            "Get:22 http://ppa.launchpad.net/c2d4u.team/c2d4u4.0+/ubuntu bionic/main amd64 Packages [865 kB]\n",
            "Fetched 11.1 MB in 5s (2,096 kB/s)\n",
            "Reading package lists... Done\n"
          ],
          "name": "stdout"
        }
      ]
    },
    {
      "cell_type": "code",
      "metadata": {
        "id": "uhXx_2r7_z_O"
      },
      "source": [
        "import pandas as pd"
      ],
      "execution_count": 50,
      "outputs": []
    },
    {
      "cell_type": "code",
      "metadata": {
        "id": "rsHuY2AtWfN0"
      },
      "source": [
        "# Start Spark session\n",
        "from pyspark.sql import SparkSession\n",
        "spark = SparkSession.builder.appName(\"tokenizing\").getOrCreate()"
      ],
      "execution_count": 7,
      "outputs": []
    },
    {
      "cell_type": "markdown",
      "metadata": {
        "id": "jyf6qklO9LEw"
      },
      "source": [
        "# Read in Data and Place in Dataframe"
      ]
    },
    {
      "cell_type": "code",
      "metadata": {
        "id": "O8sUC3wVWfd-"
      },
      "source": [
        "# Read in data from storage\n",
        "from pyspark import SparkFiles\n",
        "\n",
        "url =\"https://storage.googleapis.com/ucb_finalproject_nn/yearly_data/1975-1979.csv\"\n",
        "url2 = \"https://storage.googleapis.com/ucb_finalproject_nn/yearly_data/1980-1989.csv\"\n",
        "url3 = \"https://storage.googleapis.com/ucb_finalproject_nn/yearly_data/1990-2001.csv\"\n",
        "url4 = \"https://storage.googleapis.com/ucb_finalproject_nn/yearly_data/2002-2009.csv\"\n",
        "url5 = \"https://storage.googleapis.com/ucb_finalproject_nn/yearly_data/2010-2015.csv\"\n",
        "url6 = \"https://storage.googleapis.com/ucb_finalproject_nn/yearly_data/2016_avg.csv\""
      ],
      "execution_count": 8,
      "outputs": []
    },
    {
      "cell_type": "code",
      "metadata": {
        "id": "8gB-2vuQSOf9"
      },
      "source": [
        "spark.sparkContext.addFile(url)\n",
        "df = spark.read.csv(SparkFiles.get(\"1975-1979.csv\"), sep=\",\", header=True)"
      ],
      "execution_count": 9,
      "outputs": []
    },
    {
      "cell_type": "code",
      "metadata": {
        "id": "lSMyI5f2SUY9"
      },
      "source": [
        "spark.sparkContext.addFile(url2)\n",
        "df2 = spark.read.csv(SparkFiles.get(\"1980-1989.csv\"), sep=\",\", header=True)"
      ],
      "execution_count": 10,
      "outputs": []
    },
    {
      "cell_type": "code",
      "metadata": {
        "id": "sOJgOee_SUi2"
      },
      "source": [
        "spark.sparkContext.addFile(url3)\n",
        "df3 = spark.read.csv(SparkFiles.get(\"1990-2001.csv\"), sep=\",\", header=True)"
      ],
      "execution_count": 11,
      "outputs": []
    },
    {
      "cell_type": "code",
      "metadata": {
        "id": "k_H2KCwWSUrw"
      },
      "source": [
        "spark.sparkContext.addFile(url4)\n",
        "df4 = spark.read.csv(SparkFiles.get(\"2002-2009.csv\"), sep=\",\", header=True)"
      ],
      "execution_count": 12,
      "outputs": []
    },
    {
      "cell_type": "code",
      "metadata": {
        "id": "lDNqYC1WSUze"
      },
      "source": [
        "spark.sparkContext.addFile(url5)\n",
        "df5 = spark.read.csv(SparkFiles.get(\"2010-2015.csv\"), sep=\",\", header=True)"
      ],
      "execution_count": 13,
      "outputs": []
    },
    {
      "cell_type": "code",
      "metadata": {
        "id": "p3ccaVyfSU7N"
      },
      "source": [
        "spark.sparkContext.addFile(url6)\n",
        "df6 = spark.read.csv(SparkFiles.get(\"2016_avg.csv\"), sep=\",\", header=True)"
      ],
      "execution_count": 14,
      "outputs": []
    },
    {
      "cell_type": "code",
      "metadata": {
        "id": "z7TRbKDW1Euo"
      },
      "source": [
        "dfUnion = df.union(df2)"
      ],
      "execution_count": 15,
      "outputs": []
    },
    {
      "cell_type": "code",
      "metadata": {
        "id": "ma_MVR_V1xih"
      },
      "source": [
        "dfUnion2 = dfUnion.union(df3)"
      ],
      "execution_count": 16,
      "outputs": []
    },
    {
      "cell_type": "code",
      "metadata": {
        "id": "mXOWwV631xro"
      },
      "source": [
        "dfUnion3 = dfUnion.union(df4)"
      ],
      "execution_count": 17,
      "outputs": []
    },
    {
      "cell_type": "code",
      "metadata": {
        "id": "1vefM8P31xxm"
      },
      "source": [
        "dfUnion4 = dfUnion.union(df5)"
      ],
      "execution_count": 18,
      "outputs": []
    },
    {
      "cell_type": "code",
      "metadata": {
        "id": "LT5t05VH1x4H"
      },
      "source": [
        "dfUnion5 = dfUnion.union(df6)"
      ],
      "execution_count": 19,
      "outputs": []
    },
    {
      "cell_type": "code",
      "metadata": {
        "colab": {
          "base_uri": "https://localhost:8080/"
        },
        "id": "q5aR_UUD1Mbc",
        "outputId": "55387e4d-3c3d-42c2-ff7a-478c2bec069c"
      },
      "source": [
        "dfUnion5.show()"
      ],
      "execution_count": 20,
      "outputs": [
        {
          "output_type": "stream",
          "text": [
            "+----+-----+-------+--------------------+------+--------+-------+-------------------+------------------+------------------+------------------+------------------+\n",
            "|year|state|station|                name|   lat|     lon|   elev|           avg_temp|           avg_dew|           avg_slp|           avg_stp|           avg_co2|\n",
            "+----+-----+-------+--------------------+------+--------+-------+-------------------+------------------+------------------+------------------+------------------+\n",
            "|1975|   NH| 726160|BERLIN MUNICIPAL ...|44.583| -71.179|+0353.0| 48.552121212121207|40.676515151515147|5781.6575757575747|2755.7356060606062|329.85166666666669|\n",
            "|1975|   NY| 725060|   OTIS ANGB AIRPORT| 41.65| -70.061|+0047.5| 54.339075268817204|45.689440860215058|            9999.9|1012.6343655913978|331.20300000000003|\n",
            "|1975|   OR| 726885|             MEACHAM|45.511|-118.425|+1134.8| 40.082917735608305|3928.3748064282372|9102.0103225806452|  9087.61322580645|           331.521|\n",
            "|1975|   AK| 700265|BARROW W POST-W R...|71.333|-156.633|+0004.0|               15.0|             12.25|            9999.9|            9999.9|            328.34|\n",
            "|1975|   AK| 700866|    CHALLENGE ISLAND|70.233|  -146.5|-0999.0| 4.5260755682066796|5488.1165309603257|9813.7558620689651|            9999.9|           332.224|\n",
            "|1975|   AK| 701160|               WALES|65.617| -168.05|+0005.0| 14.700000000000001|10.966666666666665|1002.0166666666667|            9999.9|            331.65|\n",
            "|1975|   AK| 701620|               UMIAT|69.367|-152.133|+0085.0|-12.867118298368297|286.80541958041943|            9999.9|            9999.9|            329.53|\n",
            "|1975|   AK| 701745|CHANDALAR LAKE AI...|67.511|-148.483|+0585.0|-10.939230769230772|748.59846153846138|            9999.9|            9999.9|           330.125|\n",
            "|1975|   AK| 702460|          MINCHUMINA|  63.9|-152.267|+0214.0|  28.33787867996201| 3323.198856328856|            9999.9|            9999.9|331.28999999999996|\n",
            "|1975|   AK| 702490|       PUNTILLA LAKE|  62.1|-152.735|+0566.3| 27.595451631701632| 167.8182977855478|            9999.9|            9999.9|           331.521|\n",
            "|1975|   AK| 702550|    SKWENTNA AIRPORT|61.977|-151.183|+0045.7| 33.186844007707975|  3233.64816689132|            9999.9|            9999.9|332.17249999999996|\n",
            "|1975|   AK| 702600|NENANA/MUN.      ...| 64.55|-149.072|+0110.0| 8.2347069597069584|2229.9064542124543|            9999.9|            9999.9|            329.51|\n",
            "|1975|   AK| 702675|      PAXSON AIRPORT|63.033|-145.498|+0823.0| 24.320588235294121| 151.5392959001783|            9999.9|            9999.9|331.40818181818184|\n",
            "|1975|   AK| 702680|      GLENNALLEN  AK|  62.1|-145.967|+0573.0| 41.549042658730158|27.282172619047625|            9999.9|            9999.9|         331.15375|\n",
            "|1975|   AK| 702719|       SNOWSHOE LAKE|62.033|-142.667|+0735.0|   25.9434350132626|136.83779840848808|            9999.9|            9999.9|328.79666666666668|\n",
            "|1975|   AK| 702735|         MERRILL FLD|61.217|-149.833|+0042.1| 36.535714285714285|5024.0499999999993|            9999.9|            9999.9|329.65999999999997|\n",
            "|1975|   AK| 702756|VALDEZ PIONEER FI...|61.133|-146.244|+0036.0|                5.2|               2.1|            9999.9|            9999.9|             333.6|\n",
            "|1975|   AK| 702757|    WHITTIER AIRPORT|60.783|-148.683|+0011.9| 34.678333333333335|28.328333333333333|            9999.9|            9999.9|           331.232|\n",
            "|1975|   AK| 703330| PORT HEIDEN AIRPORT|56.959|-158.617|+0029.0| 38.746683413834745|146.90557384898472|            9999.9|            9999.9|330.83500000000004|\n",
            "|1975|   AK| 703570|SITKINAK(USCG)   ...| 56.55|-154.133|+0017.0| 39.248593435075179|111.62679681681101|1237.7385746080042|            9999.9|331.20300000000003|\n",
            "+----+-----+-------+--------------------+------+--------+-------+-------------------+------------------+------------------+------------------+------------------+\n",
            "only showing top 20 rows\n",
            "\n"
          ],
          "name": "stdout"
        }
      ]
    },
    {
      "cell_type": "markdown",
      "metadata": {
        "id": "YMzuxbIF9Zk7"
      },
      "source": [
        "# Machine Learning: Train, Test, Fit and Summarize"
      ]
    },
    {
      "cell_type": "code",
      "metadata": {
        "id": "ZmbOphNolDgi"
      },
      "source": [
        "from pyspark.ml.feature import VectorAssembler"
      ],
      "execution_count": 21,
      "outputs": []
    },
    {
      "cell_type": "code",
      "metadata": {
        "id": "YWHCL7w9dOVp",
        "colab": {
          "base_uri": "https://localhost:8080/"
        },
        "outputId": "4dfbabc7-4110-4502-a660-df85e7c7f2fe"
      },
      "source": [
        "df_modified = dfUnion5.drop('name', 'lon', 'avg_slp', 'avg_stp', 'state', 'station', 'avg_dew')\n",
        "\n",
        "# station = six-digit number that is a string, no decimals. \n",
        "\n",
        "df_modified.show()"
      ],
      "execution_count": 22,
      "outputs": [
        {
          "output_type": "stream",
          "text": [
            "+----+------+-------+-------------------+------------------+\n",
            "|year|   lat|   elev|           avg_temp|           avg_co2|\n",
            "+----+------+-------+-------------------+------------------+\n",
            "|1975|44.583|+0353.0| 48.552121212121207|329.85166666666669|\n",
            "|1975| 41.65|+0047.5| 54.339075268817204|331.20300000000003|\n",
            "|1975|45.511|+1134.8| 40.082917735608305|           331.521|\n",
            "|1975|71.333|+0004.0|               15.0|            328.34|\n",
            "|1975|70.233|-0999.0| 4.5260755682066796|           332.224|\n",
            "|1975|65.617|+0005.0| 14.700000000000001|            331.65|\n",
            "|1975|69.367|+0085.0|-12.867118298368297|            329.53|\n",
            "|1975|67.511|+0585.0|-10.939230769230772|           330.125|\n",
            "|1975|  63.9|+0214.0|  28.33787867996201|331.28999999999996|\n",
            "|1975|  62.1|+0566.3| 27.595451631701632|           331.521|\n",
            "|1975|61.977|+0045.7| 33.186844007707975|332.17249999999996|\n",
            "|1975| 64.55|+0110.0| 8.2347069597069584|            329.51|\n",
            "|1975|63.033|+0823.0| 24.320588235294121|331.40818181818184|\n",
            "|1975|  62.1|+0573.0| 41.549042658730158|         331.15375|\n",
            "|1975|62.033|+0735.0|   25.9434350132626|328.79666666666668|\n",
            "|1975|61.217|+0042.1| 36.535714285714285|329.65999999999997|\n",
            "|1975|61.133|+0036.0|                5.2|             333.6|\n",
            "|1975|60.783|+0011.9| 34.678333333333335|           331.232|\n",
            "|1975|56.959|+0029.0| 38.746683413834745|330.83500000000004|\n",
            "|1975| 56.55|+0017.0| 39.248593435075179|331.20300000000003|\n",
            "+----+------+-------+-------------------+------------------+\n",
            "only showing top 20 rows\n",
            "\n"
          ],
          "name": "stdout"
        }
      ]
    },
    {
      "cell_type": "code",
      "metadata": {
        "colab": {
          "base_uri": "https://localhost:8080/"
        },
        "id": "EqMkVVcYiheP",
        "outputId": "0e00ec94-397d-4869-acae-12166b6b7b5d"
      },
      "source": [
        "df_modified = df_modified.selectExpr(\"cast(year as int) year\",\n",
        "    \"cast(lat as double) lat\",\n",
        "    \"cast(elev as double) elev\", \n",
        "    \"cast(avg_temp as double) avg_temp\", \n",
        "    \"cast(avg_co2 as double) avg_co2\")\n",
        "\n",
        "df_modified.printSchema()"
      ],
      "execution_count": 23,
      "outputs": [
        {
          "output_type": "stream",
          "text": [
            "root\n",
            " |-- year: integer (nullable = true)\n",
            " |-- lat: double (nullable = true)\n",
            " |-- elev: double (nullable = true)\n",
            " |-- avg_temp: double (nullable = true)\n",
            " |-- avg_co2: double (nullable = true)\n",
            "\n"
          ],
          "name": "stdout"
        }
      ]
    },
    {
      "cell_type": "code",
      "metadata": {
        "id": "oa_6nKRGzgTn"
      },
      "source": [
        "features = df_modified.drop(\"avg_temp\")"
      ],
      "execution_count": 24,
      "outputs": []
    },
    {
      "cell_type": "code",
      "metadata": {
        "id": "s6YFtbiZbLX9"
      },
      "source": [
        "assembler = VectorAssembler(inputCols=features.columns, outputCol=\"features\", handleInvalid=\"skip\")"
      ],
      "execution_count": 25,
      "outputs": []
    },
    {
      "cell_type": "code",
      "metadata": {
        "id": "0P1nbYDWdG7G"
      },
      "source": [
        "output = assembler.transform(df_modified).select('features','avg_temp')"
      ],
      "execution_count": 26,
      "outputs": []
    },
    {
      "cell_type": "code",
      "metadata": {
        "id": "AK54e4QukAM1"
      },
      "source": [
        "train,test = output.randomSplit([0.75, 0.25], seed=42) "
      ],
      "execution_count": 27,
      "outputs": []
    },
    {
      "cell_type": "code",
      "metadata": {
        "colab": {
          "base_uri": "https://localhost:8080/"
        },
        "id": "Q5mV8OrRkD3C",
        "outputId": "0667ab22-8d82-4bcc-da40-7f5ecd44af7d"
      },
      "source": [
        "train.show()"
      ],
      "execution_count": 28,
      "outputs": [
        {
          "output_type": "stream",
          "text": [
            "+--------------------+------------------+\n",
            "|            features|          avg_temp|\n",
            "+--------------------+------------------+\n",
            "|[1975.0,18.255,10...| 79.11708141321044|\n",
            "|[1975.0,18.336,6....| 81.09575010118418|\n",
            "|[1975.0,18.498,66...| 79.40661411822988|\n",
            "|[1975.0,19.719,11...| 72.35902585765488|\n",
            "|[1975.0,19.76,188...|58.107898479152425|\n",
            "|[1975.0,20.79,399...| 71.07767868014932|\n",
            "|[1975.0,21.317,15...| 75.18506464413724|\n",
            "|[1975.0,21.324,2....| 75.23113799283155|\n",
            "|[1975.0,21.45,7.3...| 75.23592165898617|\n",
            "|[1975.0,21.984,30...| 75.04279185867894|\n",
            "|[1975.0,22.033,7....| 75.93634641896564|\n",
            "|[1975.0,24.557,0....| 79.18689260112649|\n",
            "|[1975.0,24.583,1....| 78.99674859190989|\n",
            "|[1975.0,24.633,1....| 77.21010822510823|\n",
            "|[1975.0,24.95,1.0...| 79.06531364468864|\n",
            "|[1975.0,25.483,2....| 75.74278673835124|\n",
            "|[1975.0,25.788,8....| 76.77397593445983|\n",
            "|[1975.0,26.072,3....| 78.24742962286138|\n",
            "|[1975.0,26.184,30...| 73.21689132104456|\n",
            "|[1975.0,26.228,11...| 77.92969779314889|\n",
            "+--------------------+------------------+\n",
            "only showing top 20 rows\n",
            "\n"
          ],
          "name": "stdout"
        }
      ]
    },
    {
      "cell_type": "code",
      "metadata": {
        "colab": {
          "base_uri": "https://localhost:8080/"
        },
        "id": "IImB6WzqkECd",
        "outputId": "768525e8-ec2a-439e-b9be-400ce044b335"
      },
      "source": [
        "test.show()"
      ],
      "execution_count": 29,
      "outputs": [
        {
          "output_type": "stream",
          "text": [
            "+--------------------+-----------------+\n",
            "|            features|         avg_temp|\n",
            "+--------------------+-----------------+\n",
            "|[1975.0,18.433,2....|79.68193484383002|\n",
            "|[1975.0,20.001,81...|       66.9203125|\n",
            "|[1975.0,20.9,15.5...|74.15759408602152|\n",
            "|[1975.0,21.155,13...|76.06389411853509|\n",
            "|[1975.0,21.487,25...|72.82809042675284|\n",
            "|[1975.0,24.72,1.0...|77.56029761904762|\n",
            "|[1975.0,25.914,7....|73.02472862263184|\n",
            "|[1975.0,27.072,5....|             68.9|\n",
            "|[1975.0,27.401,9....|74.34494815668202|\n",
            "|[1975.0,27.5,15.2...|70.66938300051203|\n",
            "|[1975.0,27.6,1.0,...|            73.15|\n",
            "|[1975.0,27.617,16...|77.99364197530863|\n",
            "|[1975.0,27.85,4.3...|73.53958781362006|\n",
            "|[1975.0,28.101,11...|75.30717933947774|\n",
            "|[1975.0,28.233,3....|76.31795285359802|\n",
            "|[1975.0,28.367,20...|68.96269393241167|\n",
            "|[1975.0,28.434,27...|71.91521761392728|\n",
            "|[1975.0,28.483,3....|72.41583589349719|\n",
            "|[1975.0,28.95,2.0...|67.92679346515554|\n",
            "|[1975.0,29.378,31...|68.41613927291348|\n",
            "+--------------------+-----------------+\n",
            "only showing top 20 rows\n",
            "\n"
          ],
          "name": "stdout"
        }
      ]
    },
    {
      "cell_type": "code",
      "metadata": {
        "id": "MXnzTZSapkbj"
      },
      "source": [
        "from pyspark.ml.regression import LinearRegression\n",
        "lin_reg = LinearRegression(featuresCol = 'features', labelCol='avg_temp')\n",
        "linear_model = lin_reg.fit(train)\n",
        "linear_model2 = lin_reg.fit(test)"
      ],
      "execution_count": 30,
      "outputs": []
    },
    {
      "cell_type": "code",
      "metadata": {
        "colab": {
          "base_uri": "https://localhost:8080/"
        },
        "id": "HwOwFjRlpko-",
        "outputId": "f8cdc20c-b35e-485a-e7af-650fdbcf6f5c"
      },
      "source": [
        "trainSummary = linear_model.summary\n",
        "print(\"RMSE: %f\" % trainSummary.rootMeanSquaredError)\n",
        "print(\"\\nr2: %f\" % trainSummary.r2)"
      ],
      "execution_count": 31,
      "outputs": [
        {
          "output_type": "stream",
          "text": [
            "RMSE: 6.153825\n",
            "\n",
            "r2: 0.755504\n"
          ],
          "name": "stdout"
        }
      ]
    },
    {
      "cell_type": "markdown",
      "metadata": {
        "id": "ThE40Ixp3nQP"
      },
      "source": [
        "Root MSE: absolute measure of fit. Standard deviation of unexplained variance / square root of the variance of the residuals. \n",
        "\n",
        "R-squared: Relative measure of fit. Approximately three-quarters of the observed variation can be explained by the model's inputs. "
      ]
    },
    {
      "cell_type": "code",
      "metadata": {
        "colab": {
          "base_uri": "https://localhost:8080/"
        },
        "id": "hHpbGMmIrt4u",
        "outputId": "773902a6-3399-40a7-fc3b-58c52e28eb41"
      },
      "source": [
        "testSummary = linear_model2.summary\n",
        "print(\"RMSE: %f\" % testSummary.rootMeanSquaredError)\n",
        "print(\"\\nr2: %f\" % testSummary.r2) # 74.5202% "
      ],
      "execution_count": 32,
      "outputs": [
        {
          "output_type": "stream",
          "text": [
            "RMSE: 6.130369\n",
            "\n",
            "r2: 0.760389\n"
          ],
          "name": "stdout"
        }
      ]
    },
    {
      "cell_type": "markdown",
      "metadata": {
        "id": "Ba0HKOXN4mzG"
      },
      "source": [
        ""
      ]
    },
    {
      "cell_type": "markdown",
      "metadata": {
        "id": "G7B4QWFP3odV"
      },
      "source": [
        "Root MSE: absolute measure of fit. standard deviation of unexplained variance / square root of the variance of the residuals. \n",
        "\n",
        "R-squared: relative measure of fit. approximately three-quarters of the observed variation can be explained by the model's inputs."
      ]
    },
    {
      "cell_type": "markdown",
      "metadata": {
        "id": "iJGFLb1g4n8c"
      },
      "source": [
        "# Make Predictions Using Trained Model\n"
      ]
    },
    {
      "cell_type": "code",
      "metadata": {
        "id": "wOrNFmHIC0MJ"
      },
      "source": [
        "url7 = \"https://storage.googleapis.com/ucb_finalproject_nn/yearly_data/US_Capitols_new.csv\""
      ],
      "execution_count": 68,
      "outputs": []
    },
    {
      "cell_type": "code",
      "metadata": {
        "id": "YapvNRERC05O"
      },
      "source": [
        "spark.sparkContext.addFile(url7)\n",
        "df7 = spark.read.csv(SparkFiles.get(\"US_Capitols_new.csv\"), sep=\",\", header=True)"
      ],
      "execution_count": 69,
      "outputs": []
    },
    {
      "cell_type": "code",
      "metadata": {
        "colab": {
          "base_uri": "https://localhost:8080/"
        },
        "id": "k9oeIxp1tSQP",
        "outputId": "bbe776ac-ab17-4089-831c-68cd5ff0128a"
      },
      "source": [
        "df8 = df7[[\"Year\",\"State\", \"City\"]]\n",
        "\n",
        "df8.show()"
      ],
      "execution_count": 70,
      "outputs": [
        {
          "output_type": "stream",
          "text": [
            "+----+-----+------------+\n",
            "|Year|State|        City|\n",
            "+----+-----+------------+\n",
            "|2025|   AL|  Montgomery|\n",
            "|2025|   AK|      Juneau|\n",
            "|2025|   AZ|     Phoenix|\n",
            "|2025|   AR| Little Rock|\n",
            "|2025|   CA|  Sacramento|\n",
            "|2025|   CO|      Denver|\n",
            "|2025|   CT|    Hartford|\n",
            "|2025|   DE|       Dover|\n",
            "|2025|   FL| Tallahassee|\n",
            "|2025|   GA|     Atlanta|\n",
            "|2025|   HI|    Honolulu|\n",
            "|2025|   ID|       Boise|\n",
            "|2025|   IL| Springfield|\n",
            "|2025|   IN|Indianapolis|\n",
            "|2025|   IA|  Des Moines|\n",
            "|2025|   KS|      Topeka|\n",
            "|2025|   KY|   Frankfort|\n",
            "|2025|   LA| Baton Rouge|\n",
            "|2025|   ME|     Augusta|\n",
            "|2025|   MD|   Annapolis|\n",
            "+----+-----+------------+\n",
            "only showing top 20 rows\n",
            "\n"
          ],
          "name": "stdout"
        }
      ]
    },
    {
      "cell_type": "code",
      "metadata": {
        "id": "RsYHhLcByVBU"
      },
      "source": [
        "df7 = df7.drop('State', 'City')"
      ],
      "execution_count": 72,
      "outputs": []
    },
    {
      "cell_type": "code",
      "metadata": {
        "colab": {
          "base_uri": "https://localhost:8080/"
        },
        "id": "EX3dPWwWtSaM",
        "outputId": "b69a3798-0534-4225-a908-6348bde72cbd"
      },
      "source": [
        "df_modified2 = df7.drop('Elevation_ft', 'Dew_Point')\n",
        "\n",
        "df_modified2.show()"
      ],
      "execution_count": 73,
      "outputs": [
        {
          "output_type": "stream",
          "text": [
            "+----+-------+-----------+------+\n",
            "|Year|    Lat|Elevation_m|   CO2|\n",
            "+----+-------+-----------+------+\n",
            "|2025|   32.3|     73.152|424.49|\n",
            "|2025|  58.37|    17.0688|424.49|\n",
            "|2025|  33.43|   331.0128|424.49|\n",
            "|2025|  35.22|    102.108|424.49|\n",
            "|2025|  38.52|      9.144|424.49|\n",
            "|2025|  39.75|   1609.344|424.49|\n",
            "|2025|  41.73|    17.9832|424.49|\n",
            "|2025|  39.13|      9.144|424.49|\n",
            "|2025|  30.38|    61.8744|424.49|\n",
            "|2025|  33.65|     320.04|424.49|\n",
            "|2025|21.3294|   6.001512|424.49|\n",
            "|2025|43.6007|    832.104|424.49|\n",
            "|2025|  39.85|   170.0784|424.49|\n",
            "|2025|39.7771|    217.932|424.49|\n",
            "|2025|  41.53|    291.084|424.49|\n",
            "|2025|  39.07|    288.036|424.49|\n",
            "|2025|38.1924|   155.1432|424.49|\n",
            "|2025|  30.53|    17.0688|424.49|\n",
            "|2025|  44.32|    20.7264|424.49|\n",
            "|2025|  38.97|    11.8872|424.49|\n",
            "+----+-------+-----------+------+\n",
            "only showing top 20 rows\n",
            "\n"
          ],
          "name": "stdout"
        }
      ]
    },
    {
      "cell_type": "code",
      "metadata": {
        "id": "Z7d2tYfwtSBx"
      },
      "source": [
        "df_modified2 = df_modified2.selectExpr(\"cast(Year as int) Year\",\n",
        "    \"cast(Lat as double) Lat\",\n",
        "    \"cast(Elevation_m as double) Elevation_m\", \n",
        "    \"cast(CO2 as double) CO2\")"
      ],
      "execution_count": 74,
      "outputs": []
    },
    {
      "cell_type": "code",
      "metadata": {
        "id": "yVrdqcWN5Kx9",
        "colab": {
          "base_uri": "https://localhost:8080/"
        },
        "outputId": "197ba5d1-6fcb-4fb1-fb5b-44c6ea0e9d2e"
      },
      "source": [
        "features2 = df_modified2\n",
        "\n",
        "features2.show()"
      ],
      "execution_count": 75,
      "outputs": [
        {
          "output_type": "stream",
          "text": [
            "+----+-------+-----------+------+\n",
            "|Year|    Lat|Elevation_m|   CO2|\n",
            "+----+-------+-----------+------+\n",
            "|2025|   32.3|     73.152|424.49|\n",
            "|2025|  58.37|    17.0688|424.49|\n",
            "|2025|  33.43|   331.0128|424.49|\n",
            "|2025|  35.22|    102.108|424.49|\n",
            "|2025|  38.52|      9.144|424.49|\n",
            "|2025|  39.75|   1609.344|424.49|\n",
            "|2025|  41.73|    17.9832|424.49|\n",
            "|2025|  39.13|      9.144|424.49|\n",
            "|2025|  30.38|    61.8744|424.49|\n",
            "|2025|  33.65|     320.04|424.49|\n",
            "|2025|21.3294|   6.001512|424.49|\n",
            "|2025|43.6007|    832.104|424.49|\n",
            "|2025|  39.85|   170.0784|424.49|\n",
            "|2025|39.7771|    217.932|424.49|\n",
            "|2025|  41.53|    291.084|424.49|\n",
            "|2025|  39.07|    288.036|424.49|\n",
            "|2025|38.1924|   155.1432|424.49|\n",
            "|2025|  30.53|    17.0688|424.49|\n",
            "|2025|  44.32|    20.7264|424.49|\n",
            "|2025|  38.97|    11.8872|424.49|\n",
            "+----+-------+-----------+------+\n",
            "only showing top 20 rows\n",
            "\n"
          ],
          "name": "stdout"
        }
      ]
    },
    {
      "cell_type": "code",
      "metadata": {
        "id": "vSME3eba5K1n"
      },
      "source": [
        "assembler2 = VectorAssembler(inputCols=features2.columns, outputCol=\"features\", handleInvalid=\"skip\")"
      ],
      "execution_count": 76,
      "outputs": []
    },
    {
      "cell_type": "code",
      "metadata": {
        "id": "gsgQhDaB5K5B",
        "colab": {
          "base_uri": "https://localhost:8080/"
        },
        "outputId": "241afae3-9ad4-4858-88d0-7e52b2a7567d"
      },
      "source": [
        "output2 = assembler2.transform(features2).select('features')\n",
        "\n",
        "output2.show()"
      ],
      "execution_count": 77,
      "outputs": [
        {
          "output_type": "stream",
          "text": [
            "+--------------------+\n",
            "|            features|\n",
            "+--------------------+\n",
            "|[2025.0,32.3,73.1...|\n",
            "|[2025.0,58.37,17....|\n",
            "|[2025.0,33.43,331...|\n",
            "|[2025.0,35.22,102...|\n",
            "|[2025.0,38.52,9.1...|\n",
            "|[2025.0,39.75,160...|\n",
            "|[2025.0,41.73,17....|\n",
            "|[2025.0,39.13,9.1...|\n",
            "|[2025.0,30.38,61....|\n",
            "|[2025.0,33.65,320...|\n",
            "|[2025.0,21.3294,6...|\n",
            "|[2025.0,43.6007,8...|\n",
            "|[2025.0,39.85,170...|\n",
            "|[2025.0,39.7771,2...|\n",
            "|[2025.0,41.53,291...|\n",
            "|[2025.0,39.07,288...|\n",
            "|[2025.0,38.1924,1...|\n",
            "|[2025.0,30.53,17....|\n",
            "|[2025.0,44.32,20....|\n",
            "|[2025.0,38.97,11....|\n",
            "+--------------------+\n",
            "only showing top 20 rows\n",
            "\n"
          ],
          "name": "stdout"
        }
      ]
    },
    {
      "cell_type": "code",
      "metadata": {
        "id": "Qtkr9nVh5K79"
      },
      "source": [
        "lin_reg2 = LinearRegression(featuresCol = 'features')"
      ],
      "execution_count": 78,
      "outputs": []
    },
    {
      "cell_type": "code",
      "metadata": {
        "id": "xqdjjwq6EXXU"
      },
      "source": [
        "lr_predictions = linear_model.transform(output2)"
      ],
      "execution_count": 79,
      "outputs": []
    },
    {
      "cell_type": "code",
      "metadata": {
        "id": "CBMa6GI0EXig",
        "colab": {
          "base_uri": "https://localhost:8080/"
        },
        "outputId": "413d1180-2493-4386-efa0-772c44a73777"
      },
      "source": [
        "lr_predictions.show()"
      ],
      "execution_count": 80,
      "outputs": [
        {
          "output_type": "stream",
          "text": [
            "+--------------------+------------------+\n",
            "|            features|        prediction|\n",
            "+--------------------+------------------+\n",
            "|[2025.0,32.3,73.1...| 66.08284438364342|\n",
            "|[2025.0,58.37,17....| 35.83139041698871|\n",
            "|[2025.0,33.43,331...|63.603375320117834|\n",
            "|[2025.0,35.22,102...| 62.53634445711816|\n",
            "|[2025.0,38.52,9.1...|59.092419652673584|\n",
            "|[2025.0,39.75,160...| 50.47134496141314|\n",
            "|[2025.0,41.73,17....| 55.29689260948123|\n",
            "|[2025.0,39.13,9.1...| 58.37869010052043|\n",
            "|[2025.0,30.38,61....| 68.37995280193115|\n",
            "|[2025.0,33.65,320...|63.395212079809994|\n",
            "|[2025.0,21.3294,6...| 79.22035838438262|\n",
            "|[2025.0,43.6007,8...| 49.45419817388108|\n",
            "|[2025.0,39.85,170...|56.813959757554244|\n",
            "|[2025.0,39.7771,2...|56.684482828118576|\n",
            "|[2025.0,41.53,291...| 54.30518878788632|\n",
            "|[2025.0,39.07,288...| 57.19718780371238|\n",
            "|[2025.0,38.1924,1...| 58.82046326952002|\n",
            "|[2025.0,30.53,17....| 68.40553915787802|\n",
            "|[2025.0,44.32,20....|52.254155279484735|\n",
            "|[2025.0,38.97,11....| 58.55358599744352|\n",
            "+--------------------+------------------+\n",
            "only showing top 20 rows\n",
            "\n"
          ],
          "name": "stdout"
        }
      ]
    },
    {
      "cell_type": "code",
      "metadata": {
        "colab": {
          "base_uri": "https://localhost:8080/",
          "height": 194
        },
        "id": "T_qTBbwK3Nnm",
        "outputId": "0b24aeab-601c-44f7-e225-38a9f5f69e45"
      },
      "source": [
        "lr_pandas = lr_predictions.toPandas()\n",
        "\n",
        "lr_pandas.head()"
      ],
      "execution_count": 81,
      "outputs": [
        {
          "output_type": "execute_result",
          "data": {
            "application/vnd.google.colaboratory.module+javascript": "\n      import \"https://ssl.gstatic.com/colaboratory/data_table/a6224c040fa35dcf/data_table.js\";\n\n      window.createDataTable({\n        data: [[{\n            'v': 0,\n            'f': \"0\",\n        },\n\"[2025.0,32.3,73.152,424.49]\",\n{\n            'v': 66.08284438364342,\n            'f': \"66.08284438364342\",\n        }],\n [{\n            'v': 1,\n            'f': \"1\",\n        },\n\"[2025.0,58.37,17.0688,424.49]\",\n{\n            'v': 35.83139041698871,\n            'f': \"35.83139041698871\",\n        }],\n [{\n            'v': 2,\n            'f': \"2\",\n        },\n\"[2025.0,33.43,331.0128,424.49]\",\n{\n            'v': 63.603375320117834,\n            'f': \"63.603375320117834\",\n        }],\n [{\n            'v': 3,\n            'f': \"3\",\n        },\n\"[2025.0,35.22,102.108,424.49]\",\n{\n            'v': 62.53634445711816,\n            'f': \"62.53634445711816\",\n        }],\n [{\n            'v': 4,\n            'f': \"4\",\n        },\n\"[2025.0,38.52,9.144,424.49]\",\n{\n            'v': 59.092419652673584,\n            'f': \"59.092419652673584\",\n        }]],\n        columns: [[\"number\", \"index\"], [\"string\", \"features\"], [\"number\", \"prediction\"]],\n        columnOptions: [{\"width\": \"1px\", \"className\": \"index_column\"}],\n        rowsPerPage: 25,\n        helpUrl: \"https://colab.research.google.com/notebooks/data_table.ipynb\",\n        suppressOutputScrolling: true,\n        minimumWidth: undefined,\n      });\n    ",
            "text/html": [
              "<div>\n",
              "<style scoped>\n",
              "    .dataframe tbody tr th:only-of-type {\n",
              "        vertical-align: middle;\n",
              "    }\n",
              "\n",
              "    .dataframe tbody tr th {\n",
              "        vertical-align: top;\n",
              "    }\n",
              "\n",
              "    .dataframe thead th {\n",
              "        text-align: right;\n",
              "    }\n",
              "</style>\n",
              "<table border=\"1\" class=\"dataframe\">\n",
              "  <thead>\n",
              "    <tr style=\"text-align: right;\">\n",
              "      <th></th>\n",
              "      <th>features</th>\n",
              "      <th>prediction</th>\n",
              "    </tr>\n",
              "  </thead>\n",
              "  <tbody>\n",
              "    <tr>\n",
              "      <th>0</th>\n",
              "      <td>[2025.0, 32.3, 73.152, 424.49]</td>\n",
              "      <td>66.082844</td>\n",
              "    </tr>\n",
              "    <tr>\n",
              "      <th>1</th>\n",
              "      <td>[2025.0, 58.37, 17.0688, 424.49]</td>\n",
              "      <td>35.831390</td>\n",
              "    </tr>\n",
              "    <tr>\n",
              "      <th>2</th>\n",
              "      <td>[2025.0, 33.43, 331.0128, 424.49]</td>\n",
              "      <td>63.603375</td>\n",
              "    </tr>\n",
              "    <tr>\n",
              "      <th>3</th>\n",
              "      <td>[2025.0, 35.22, 102.108, 424.49]</td>\n",
              "      <td>62.536344</td>\n",
              "    </tr>\n",
              "    <tr>\n",
              "      <th>4</th>\n",
              "      <td>[2025.0, 38.52, 9.144, 424.49]</td>\n",
              "      <td>59.092420</td>\n",
              "    </tr>\n",
              "  </tbody>\n",
              "</table>\n",
              "</div>"
            ],
            "text/plain": [
              "                            features  prediction\n",
              "0     [2025.0, 32.3, 73.152, 424.49]   66.082844\n",
              "1   [2025.0, 58.37, 17.0688, 424.49]   35.831390\n",
              "2  [2025.0, 33.43, 331.0128, 424.49]   63.603375\n",
              "3   [2025.0, 35.22, 102.108, 424.49]   62.536344\n",
              "4     [2025.0, 38.52, 9.144, 424.49]   59.092420"
            ]
          },
          "metadata": {
            "tags": []
          },
          "execution_count": 81
        }
      ]
    },
    {
      "cell_type": "code",
      "metadata": {
        "colab": {
          "base_uri": "https://localhost:8080/",
          "height": 194
        },
        "id": "fI8IVp0q1Gv1",
        "outputId": "15967584-266d-4460-d037-bb05902de217"
      },
      "source": [
        "df8_pandas = df8.toPandas()\n",
        "\n",
        "df8_pandas.head()"
      ],
      "execution_count": 82,
      "outputs": [
        {
          "output_type": "execute_result",
          "data": {
            "application/vnd.google.colaboratory.module+javascript": "\n      import \"https://ssl.gstatic.com/colaboratory/data_table/a6224c040fa35dcf/data_table.js\";\n\n      window.createDataTable({\n        data: [[{\n            'v': 0,\n            'f': \"0\",\n        },\n\"2025\",\n\"AL\",\n\"Montgomery\"],\n [{\n            'v': 1,\n            'f': \"1\",\n        },\n\"2025\",\n\"AK\",\n\"Juneau\"],\n [{\n            'v': 2,\n            'f': \"2\",\n        },\n\"2025\",\n\"AZ\",\n\"Phoenix\"],\n [{\n            'v': 3,\n            'f': \"3\",\n        },\n\"2025\",\n\"AR\",\n\"Little Rock\"],\n [{\n            'v': 4,\n            'f': \"4\",\n        },\n\"2025\",\n\"CA\",\n\"Sacramento\"]],\n        columns: [[\"number\", \"index\"], [\"string\", \"Year\"], [\"string\", \"State\"], [\"string\", \"City\"]],\n        columnOptions: [{\"width\": \"1px\", \"className\": \"index_column\"}],\n        rowsPerPage: 25,\n        helpUrl: \"https://colab.research.google.com/notebooks/data_table.ipynb\",\n        suppressOutputScrolling: true,\n        minimumWidth: undefined,\n      });\n    ",
            "text/html": [
              "<div>\n",
              "<style scoped>\n",
              "    .dataframe tbody tr th:only-of-type {\n",
              "        vertical-align: middle;\n",
              "    }\n",
              "\n",
              "    .dataframe tbody tr th {\n",
              "        vertical-align: top;\n",
              "    }\n",
              "\n",
              "    .dataframe thead th {\n",
              "        text-align: right;\n",
              "    }\n",
              "</style>\n",
              "<table border=\"1\" class=\"dataframe\">\n",
              "  <thead>\n",
              "    <tr style=\"text-align: right;\">\n",
              "      <th></th>\n",
              "      <th>Year</th>\n",
              "      <th>State</th>\n",
              "      <th>City</th>\n",
              "    </tr>\n",
              "  </thead>\n",
              "  <tbody>\n",
              "    <tr>\n",
              "      <th>0</th>\n",
              "      <td>2025</td>\n",
              "      <td>AL</td>\n",
              "      <td>Montgomery</td>\n",
              "    </tr>\n",
              "    <tr>\n",
              "      <th>1</th>\n",
              "      <td>2025</td>\n",
              "      <td>AK</td>\n",
              "      <td>Juneau</td>\n",
              "    </tr>\n",
              "    <tr>\n",
              "      <th>2</th>\n",
              "      <td>2025</td>\n",
              "      <td>AZ</td>\n",
              "      <td>Phoenix</td>\n",
              "    </tr>\n",
              "    <tr>\n",
              "      <th>3</th>\n",
              "      <td>2025</td>\n",
              "      <td>AR</td>\n",
              "      <td>Little Rock</td>\n",
              "    </tr>\n",
              "    <tr>\n",
              "      <th>4</th>\n",
              "      <td>2025</td>\n",
              "      <td>CA</td>\n",
              "      <td>Sacramento</td>\n",
              "    </tr>\n",
              "  </tbody>\n",
              "</table>\n",
              "</div>"
            ],
            "text/plain": [
              "   Year State         City\n",
              "0  2025    AL   Montgomery\n",
              "1  2025    AK       Juneau\n",
              "2  2025    AZ      Phoenix\n",
              "3  2025    AR  Little Rock\n",
              "4  2025    CA   Sacramento"
            ]
          },
          "metadata": {
            "tags": []
          },
          "execution_count": 82
        }
      ]
    },
    {
      "cell_type": "code",
      "metadata": {
        "id": "QcFO_hd--OnG"
      },
      "source": [
        "combined_df = pd.concat([df8_pandas, lr_pandas], axis=1)"
      ],
      "execution_count": 83,
      "outputs": []
    },
    {
      "cell_type": "code",
      "metadata": {
        "colab": {
          "base_uri": "https://localhost:8080/",
          "height": 194
        },
        "id": "4Mpx4hO1_XBa",
        "outputId": "5069afb7-dcd6-4231-9649-4ba0f41f4dc1"
      },
      "source": [
        "combined_df.head()"
      ],
      "execution_count": 84,
      "outputs": [
        {
          "output_type": "execute_result",
          "data": {
            "application/vnd.google.colaboratory.module+javascript": "\n      import \"https://ssl.gstatic.com/colaboratory/data_table/a6224c040fa35dcf/data_table.js\";\n\n      window.createDataTable({\n        data: [[{\n            'v': 0,\n            'f': \"0\",\n        },\n\"2025\",\n\"AL\",\n\"Montgomery\",\n\"[2025.0,32.3,73.152,424.49]\",\n{\n            'v': 66.08284438364342,\n            'f': \"66.08284438364342\",\n        }],\n [{\n            'v': 1,\n            'f': \"1\",\n        },\n\"2025\",\n\"AK\",\n\"Juneau\",\n\"[2025.0,58.37,17.0688,424.49]\",\n{\n            'v': 35.83139041698871,\n            'f': \"35.83139041698871\",\n        }],\n [{\n            'v': 2,\n            'f': \"2\",\n        },\n\"2025\",\n\"AZ\",\n\"Phoenix\",\n\"[2025.0,33.43,331.0128,424.49]\",\n{\n            'v': 63.603375320117834,\n            'f': \"63.603375320117834\",\n        }],\n [{\n            'v': 3,\n            'f': \"3\",\n        },\n\"2025\",\n\"AR\",\n\"Little Rock\",\n\"[2025.0,35.22,102.108,424.49]\",\n{\n            'v': 62.53634445711816,\n            'f': \"62.53634445711816\",\n        }],\n [{\n            'v': 4,\n            'f': \"4\",\n        },\n\"2025\",\n\"CA\",\n\"Sacramento\",\n\"[2025.0,38.52,9.144,424.49]\",\n{\n            'v': 59.092419652673584,\n            'f': \"59.092419652673584\",\n        }]],\n        columns: [[\"number\", \"index\"], [\"string\", \"Year\"], [\"string\", \"State\"], [\"string\", \"City\"], [\"string\", \"features\"], [\"number\", \"prediction\"]],\n        columnOptions: [{\"width\": \"1px\", \"className\": \"index_column\"}],\n        rowsPerPage: 25,\n        helpUrl: \"https://colab.research.google.com/notebooks/data_table.ipynb\",\n        suppressOutputScrolling: true,\n        minimumWidth: undefined,\n      });\n    ",
            "text/html": [
              "<div>\n",
              "<style scoped>\n",
              "    .dataframe tbody tr th:only-of-type {\n",
              "        vertical-align: middle;\n",
              "    }\n",
              "\n",
              "    .dataframe tbody tr th {\n",
              "        vertical-align: top;\n",
              "    }\n",
              "\n",
              "    .dataframe thead th {\n",
              "        text-align: right;\n",
              "    }\n",
              "</style>\n",
              "<table border=\"1\" class=\"dataframe\">\n",
              "  <thead>\n",
              "    <tr style=\"text-align: right;\">\n",
              "      <th></th>\n",
              "      <th>Year</th>\n",
              "      <th>State</th>\n",
              "      <th>City</th>\n",
              "      <th>features</th>\n",
              "      <th>prediction</th>\n",
              "    </tr>\n",
              "  </thead>\n",
              "  <tbody>\n",
              "    <tr>\n",
              "      <th>0</th>\n",
              "      <td>2025</td>\n",
              "      <td>AL</td>\n",
              "      <td>Montgomery</td>\n",
              "      <td>[2025.0, 32.3, 73.152, 424.49]</td>\n",
              "      <td>66.082844</td>\n",
              "    </tr>\n",
              "    <tr>\n",
              "      <th>1</th>\n",
              "      <td>2025</td>\n",
              "      <td>AK</td>\n",
              "      <td>Juneau</td>\n",
              "      <td>[2025.0, 58.37, 17.0688, 424.49]</td>\n",
              "      <td>35.831390</td>\n",
              "    </tr>\n",
              "    <tr>\n",
              "      <th>2</th>\n",
              "      <td>2025</td>\n",
              "      <td>AZ</td>\n",
              "      <td>Phoenix</td>\n",
              "      <td>[2025.0, 33.43, 331.0128, 424.49]</td>\n",
              "      <td>63.603375</td>\n",
              "    </tr>\n",
              "    <tr>\n",
              "      <th>3</th>\n",
              "      <td>2025</td>\n",
              "      <td>AR</td>\n",
              "      <td>Little Rock</td>\n",
              "      <td>[2025.0, 35.22, 102.108, 424.49]</td>\n",
              "      <td>62.536344</td>\n",
              "    </tr>\n",
              "    <tr>\n",
              "      <th>4</th>\n",
              "      <td>2025</td>\n",
              "      <td>CA</td>\n",
              "      <td>Sacramento</td>\n",
              "      <td>[2025.0, 38.52, 9.144, 424.49]</td>\n",
              "      <td>59.092420</td>\n",
              "    </tr>\n",
              "  </tbody>\n",
              "</table>\n",
              "</div>"
            ],
            "text/plain": [
              "   Year State         City                           features  prediction\n",
              "0  2025    AL   Montgomery     [2025.0, 32.3, 73.152, 424.49]   66.082844\n",
              "1  2025    AK       Juneau   [2025.0, 58.37, 17.0688, 424.49]   35.831390\n",
              "2  2025    AZ      Phoenix  [2025.0, 33.43, 331.0128, 424.49]   63.603375\n",
              "3  2025    AR  Little Rock   [2025.0, 35.22, 102.108, 424.49]   62.536344\n",
              "4  2025    CA   Sacramento     [2025.0, 38.52, 9.144, 424.49]   59.092420"
            ]
          },
          "metadata": {
            "tags": []
          },
          "execution_count": 84
        }
      ]
    },
    {
      "cell_type": "code",
      "metadata": {
        "id": "CS6iRoGZA-KL"
      },
      "source": [
        "final_predictions = combined_df.drop(['features'], axis=1)"
      ],
      "execution_count": 85,
      "outputs": []
    },
    {
      "cell_type": "code",
      "metadata": {
        "colab": {
          "base_uri": "https://localhost:8080/",
          "height": 194
        },
        "id": "DkKZtsCPBRjn",
        "outputId": "d65a85ee-2464-4432-b2c9-7e3304c68702"
      },
      "source": [
        "final_predictions.head()"
      ],
      "execution_count": 86,
      "outputs": [
        {
          "output_type": "execute_result",
          "data": {
            "application/vnd.google.colaboratory.module+javascript": "\n      import \"https://ssl.gstatic.com/colaboratory/data_table/a6224c040fa35dcf/data_table.js\";\n\n      window.createDataTable({\n        data: [[{\n            'v': 0,\n            'f': \"0\",\n        },\n\"2025\",\n\"AL\",\n\"Montgomery\",\n{\n            'v': 66.08284438364342,\n            'f': \"66.08284438364342\",\n        }],\n [{\n            'v': 1,\n            'f': \"1\",\n        },\n\"2025\",\n\"AK\",\n\"Juneau\",\n{\n            'v': 35.83139041698871,\n            'f': \"35.83139041698871\",\n        }],\n [{\n            'v': 2,\n            'f': \"2\",\n        },\n\"2025\",\n\"AZ\",\n\"Phoenix\",\n{\n            'v': 63.603375320117834,\n            'f': \"63.603375320117834\",\n        }],\n [{\n            'v': 3,\n            'f': \"3\",\n        },\n\"2025\",\n\"AR\",\n\"Little Rock\",\n{\n            'v': 62.53634445711816,\n            'f': \"62.53634445711816\",\n        }],\n [{\n            'v': 4,\n            'f': \"4\",\n        },\n\"2025\",\n\"CA\",\n\"Sacramento\",\n{\n            'v': 59.092419652673584,\n            'f': \"59.092419652673584\",\n        }]],\n        columns: [[\"number\", \"index\"], [\"string\", \"Year\"], [\"string\", \"State\"], [\"string\", \"City\"], [\"number\", \"prediction\"]],\n        columnOptions: [{\"width\": \"1px\", \"className\": \"index_column\"}],\n        rowsPerPage: 25,\n        helpUrl: \"https://colab.research.google.com/notebooks/data_table.ipynb\",\n        suppressOutputScrolling: true,\n        minimumWidth: undefined,\n      });\n    ",
            "text/html": [
              "<div>\n",
              "<style scoped>\n",
              "    .dataframe tbody tr th:only-of-type {\n",
              "        vertical-align: middle;\n",
              "    }\n",
              "\n",
              "    .dataframe tbody tr th {\n",
              "        vertical-align: top;\n",
              "    }\n",
              "\n",
              "    .dataframe thead th {\n",
              "        text-align: right;\n",
              "    }\n",
              "</style>\n",
              "<table border=\"1\" class=\"dataframe\">\n",
              "  <thead>\n",
              "    <tr style=\"text-align: right;\">\n",
              "      <th></th>\n",
              "      <th>Year</th>\n",
              "      <th>State</th>\n",
              "      <th>City</th>\n",
              "      <th>prediction</th>\n",
              "    </tr>\n",
              "  </thead>\n",
              "  <tbody>\n",
              "    <tr>\n",
              "      <th>0</th>\n",
              "      <td>2025</td>\n",
              "      <td>AL</td>\n",
              "      <td>Montgomery</td>\n",
              "      <td>66.082844</td>\n",
              "    </tr>\n",
              "    <tr>\n",
              "      <th>1</th>\n",
              "      <td>2025</td>\n",
              "      <td>AK</td>\n",
              "      <td>Juneau</td>\n",
              "      <td>35.831390</td>\n",
              "    </tr>\n",
              "    <tr>\n",
              "      <th>2</th>\n",
              "      <td>2025</td>\n",
              "      <td>AZ</td>\n",
              "      <td>Phoenix</td>\n",
              "      <td>63.603375</td>\n",
              "    </tr>\n",
              "    <tr>\n",
              "      <th>3</th>\n",
              "      <td>2025</td>\n",
              "      <td>AR</td>\n",
              "      <td>Little Rock</td>\n",
              "      <td>62.536344</td>\n",
              "    </tr>\n",
              "    <tr>\n",
              "      <th>4</th>\n",
              "      <td>2025</td>\n",
              "      <td>CA</td>\n",
              "      <td>Sacramento</td>\n",
              "      <td>59.092420</td>\n",
              "    </tr>\n",
              "  </tbody>\n",
              "</table>\n",
              "</div>"
            ],
            "text/plain": [
              "   Year State         City  prediction\n",
              "0  2025    AL   Montgomery   66.082844\n",
              "1  2025    AK       Juneau   35.831390\n",
              "2  2025    AZ      Phoenix   63.603375\n",
              "3  2025    AR  Little Rock   62.536344\n",
              "4  2025    CA   Sacramento   59.092420"
            ]
          },
          "metadata": {
            "tags": []
          },
          "execution_count": 86
        }
      ]
    },
    {
      "cell_type": "code",
      "metadata": {
        "id": "sb9nRg_O7yMg"
      },
      "source": [
        "final_predictions.to_csv('capital_predictions.csv', index=False) "
      ],
      "execution_count": 89,
      "outputs": []
    },
    {
      "cell_type": "code",
      "metadata": {
        "id": "PZuUBg5F7wZM"
      },
      "source": [
        ""
      ],
      "execution_count": null,
      "outputs": []
    }
  ]
}